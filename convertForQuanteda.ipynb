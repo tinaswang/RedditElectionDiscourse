{
 "cells": [
  {
   "cell_type": "code",
   "execution_count": 2,
   "metadata": {},
   "outputs": [],
   "source": [
    "import time\n",
    "import datetime\n",
    "import csv\n",
    "import sys\n",
    "import pandas as pd\n",
    "import sys\n",
    "import os\n",
    "import re\n",
    "import numpy as np\n",
    "import json\n",
    "import string\n",
    "import glob"
   ]
  },
  {
   "cell_type": "markdown",
   "metadata": {},
   "source": [
    "## Step 1: Get list of Submission IDs we want to look at\n",
    "\n",
    "All of our submissions are stored in the \"comments\" directory, and the IDs are stored in the filenames (see getCommentThreads.py)"
   ]
  },
  {
   "cell_type": "code",
   "execution_count": 3,
   "metadata": {},
   "outputs": [],
   "source": [
    "\n",
    "commentFiles = glob.glob('comments/*.json', recursive=True)\n",
    "# deltaIDs is a list of all the thread IDs we want to look at\n",
    "deltaIDs = []\n",
    "for f in commentFiles:\n",
    "    deltaIDs.append(f[-11:-5])"
   ]
  },
  {
   "cell_type": "markdown",
   "metadata": {},
   "source": [
    "# Step 2: reading in categories (for election data only)"
   ]
  },
  {
   "cell_type": "code",
   "execution_count": 11,
   "metadata": {},
   "outputs": [],
   "source": [
    "with open('trump_submissions.json') as json_file:  \n",
    "    data = json.load(json_file)[\"data\"]\n",
    "with open('clinton_submissions.json') as json_file:  \n",
    "     data.extend(json.load(json_file)[\"data\"])"
   ]
  },
  {
   "cell_type": "code",
   "execution_count": 3,
   "metadata": {},
   "outputs": [],
   "source": [
    "df_categories = pd.read_csv(\"categories.csv\")"
   ]
  },
  {
   "cell_type": "code",
   "execution_count": 22,
   "metadata": {},
   "outputs": [],
   "source": [
    "l1 = df_categories[\"Supports Clinton / Against Trump\"].values"
   ]
  },
  {
   "cell_type": "code",
   "execution_count": 23,
   "metadata": {},
   "outputs": [],
   "source": [
    "l2 = df_categories[\"Supports Trump / Against Clinton\"].values"
   ]
  },
  {
   "cell_type": "code",
   "execution_count": 24,
   "metadata": {},
   "outputs": [],
   "source": [
    "l3 = df_categories[\"Other Candidate/Nomination\"].values\n",
    "l4 = df_categories[\"Other\"].values"
   ]
  },
  {
   "cell_type": "markdown",
   "metadata": {},
   "source": [
    "# Step 3: Write only important data to .csv"
   ]
  },
  {
   "cell_type": "code",
   "execution_count": 1,
   "metadata": {},
   "outputs": [],
   "source": [
    "# This function writes out submissions to CSV\n",
    "def writeSubmissionsToCSV(data, f_out_delta, f_out_other, deltaIDs):\n",
    "    LENGTH = len(data)\n",
    "    print(\"Length of input: \", LENGTH)\n",
    "    deltaSubmissions = []\n",
    "    otherSubmissions = []\n",
    "    for i in range(LENGTH):\n",
    "        # we want title, id and submission text to write into a csv file for quanteda purposes\n",
    "        title = data[i][\"title\"]\n",
    "        title = (title.split())\n",
    "        title.pop(0)\n",
    "        final_title = ' '.join(title)\n",
    "        curr_id = data[i][\"id\"]\n",
    "        # get and clean submission\n",
    "        try:\n",
    "            urlFree = re.sub(r\"http\\S+\", \"\",  ' '.join(data[i][\"selftext\"].split()))\n",
    "        except:\n",
    "            continue\n",
    "        submission_text = urlFree\n",
    "        if submission_text != \"[removed]\":\n",
    "            cat_name = \"\"\n",
    "            if curr_id in deltaIDs:\n",
    "                if curr_id in l1:\n",
    "                    cat_name = \"Supports Clinton\"\n",
    "                elif curr_id in l2:\n",
    "                    cat_name = \"Supports Trump\"\n",
    "                elif curr_id in l3:\n",
    "                    cat_name = \"Other Candidate\"\n",
    "                else:\n",
    "                    cat_name = \"Other\"\n",
    "                deltaSubmissions.append([curr_id, final_title, \"delta\", cat_name, submission_text])\n",
    "            else:\n",
    "                otherSubmissions.append([curr_id, final_title, submission_text, \"none\"])\n",
    "    df = pd.DataFrame(deltaSubmissions, columns=[\"id\", \"title\",  \"deltaBool\",  \"category\", \"selftext\"])\n",
    "\n",
    "    dfOther = pd.DataFrame(otherSubmissions, columns=[\"id\", \"title\", \"selftext\", \"deltaBool\"])\n",
    "    df.to_csv(f_out_delta, index=False)\n",
    "    dfOther.to_csv(f_out_other, index=False)"
   ]
  },
  {
   "cell_type": "code",
   "execution_count": null,
   "metadata": {},
   "outputs": [],
   "source": [
    "df = writeSubmissionsToCSV(data, \"delta_submissions.csv\", \"other_submissions.csv\", deltaIDs)"
   ]
  },
  {
   "cell_type": "code",
   "execution_count": null,
   "metadata": {},
   "outputs": [],
   "source": []
  }
 ],
 "metadata": {
  "kernelspec": {
   "display_name": "Python 3",
   "language": "python",
   "name": "python3"
  },
  "language_info": {
   "codemirror_mode": {
    "name": "ipython",
    "version": 3
   },
   "file_extension": ".py",
   "mimetype": "text/x-python",
   "name": "python",
   "nbconvert_exporter": "python",
   "pygments_lexer": "ipython3",
   "version": "3.6.8"
  }
 },
 "nbformat": 4,
 "nbformat_minor": 2
}
