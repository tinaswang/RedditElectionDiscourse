{
 "cells": [
  {
   "cell_type": "code",
   "execution_count": 1,
   "metadata": {},
   "outputs": [],
   "source": [
    "import pandas as pd\n",
    "import numpy as np\n",
    "import glob\n",
    "import json\n",
    "import re\n",
    "import pickle\n",
    "# import text analysis libraries\n",
    "from vaderSentiment.vaderSentiment import SentimentIntensityAnalyzer\n",
    "import textstat\n",
    "import string\n",
    "%matplotlib inline\n",
    "import matplotlib.pyplot as plt"
   ]
  },
  {
   "cell_type": "code",
   "execution_count": 2,
   "metadata": {},
   "outputs": [
    {
     "name": "stderr",
     "output_type": "stream",
     "text": [
      "/Users/lisazhu/anaconda3/lib/python3.6/site-packages/bebi103/viz.py:30: UserWarning: DataShader import failed with error \"No module named 'datashader'\".\n",
      "Features requiring DataShader will not work and you will get exceptions.\n",
      "  Features requiring DataShader will not work and you will get exceptions.\"\"\")\n"
     ]
    },
    {
     "data": {
      "text/html": [
       "\n",
       "    <div class=\"bk-root\">\n",
       "        <a href=\"https://bokeh.pydata.org\" target=\"_blank\" class=\"bk-logo bk-logo-small bk-logo-notebook\"></a>\n",
       "        <span id=\"1001\">Loading BokehJS ...</span>\n",
       "    </div>"
      ]
     },
     "metadata": {},
     "output_type": "display_data"
    },
    {
     "data": {
      "application/javascript": [
       "\n",
       "(function(root) {\n",
       "  function now() {\n",
       "    return new Date();\n",
       "  }\n",
       "\n",
       "  var force = true;\n",
       "\n",
       "  if (typeof (root._bokeh_onload_callbacks) === \"undefined\" || force === true) {\n",
       "    root._bokeh_onload_callbacks = [];\n",
       "    root._bokeh_is_loading = undefined;\n",
       "  }\n",
       "\n",
       "  var JS_MIME_TYPE = 'application/javascript';\n",
       "  var HTML_MIME_TYPE = 'text/html';\n",
       "  var EXEC_MIME_TYPE = 'application/vnd.bokehjs_exec.v0+json';\n",
       "  var CLASS_NAME = 'output_bokeh rendered_html';\n",
       "\n",
       "  /**\n",
       "   * Render data to the DOM node\n",
       "   */\n",
       "  function render(props, node) {\n",
       "    var script = document.createElement(\"script\");\n",
       "    node.appendChild(script);\n",
       "  }\n",
       "\n",
       "  /**\n",
       "   * Handle when an output is cleared or removed\n",
       "   */\n",
       "  function handleClearOutput(event, handle) {\n",
       "    var cell = handle.cell;\n",
       "\n",
       "    var id = cell.output_area._bokeh_element_id;\n",
       "    var server_id = cell.output_area._bokeh_server_id;\n",
       "    // Clean up Bokeh references\n",
       "    if (id != null && id in Bokeh.index) {\n",
       "      Bokeh.index[id].model.document.clear();\n",
       "      delete Bokeh.index[id];\n",
       "    }\n",
       "\n",
       "    if (server_id !== undefined) {\n",
       "      // Clean up Bokeh references\n",
       "      var cmd = \"from bokeh.io.state import curstate; print(curstate().uuid_to_server['\" + server_id + \"'].get_sessions()[0].document.roots[0]._id)\";\n",
       "      cell.notebook.kernel.execute(cmd, {\n",
       "        iopub: {\n",
       "          output: function(msg) {\n",
       "            var id = msg.content.text.trim();\n",
       "            if (id in Bokeh.index) {\n",
       "              Bokeh.index[id].model.document.clear();\n",
       "              delete Bokeh.index[id];\n",
       "            }\n",
       "          }\n",
       "        }\n",
       "      });\n",
       "      // Destroy server and session\n",
       "      var cmd = \"import bokeh.io.notebook as ion; ion.destroy_server('\" + server_id + \"')\";\n",
       "      cell.notebook.kernel.execute(cmd);\n",
       "    }\n",
       "  }\n",
       "\n",
       "  /**\n",
       "   * Handle when a new output is added\n",
       "   */\n",
       "  function handleAddOutput(event, handle) {\n",
       "    var output_area = handle.output_area;\n",
       "    var output = handle.output;\n",
       "\n",
       "    // limit handleAddOutput to display_data with EXEC_MIME_TYPE content only\n",
       "    if ((output.output_type != \"display_data\") || (!output.data.hasOwnProperty(EXEC_MIME_TYPE))) {\n",
       "      return\n",
       "    }\n",
       "\n",
       "    var toinsert = output_area.element.find(\".\" + CLASS_NAME.split(' ')[0]);\n",
       "\n",
       "    if (output.metadata[EXEC_MIME_TYPE][\"id\"] !== undefined) {\n",
       "      toinsert[toinsert.length - 1].firstChild.textContent = output.data[JS_MIME_TYPE];\n",
       "      // store reference to embed id on output_area\n",
       "      output_area._bokeh_element_id = output.metadata[EXEC_MIME_TYPE][\"id\"];\n",
       "    }\n",
       "    if (output.metadata[EXEC_MIME_TYPE][\"server_id\"] !== undefined) {\n",
       "      var bk_div = document.createElement(\"div\");\n",
       "      bk_div.innerHTML = output.data[HTML_MIME_TYPE];\n",
       "      var script_attrs = bk_div.children[0].attributes;\n",
       "      for (var i = 0; i < script_attrs.length; i++) {\n",
       "        toinsert[toinsert.length - 1].firstChild.setAttribute(script_attrs[i].name, script_attrs[i].value);\n",
       "      }\n",
       "      // store reference to server id on output_area\n",
       "      output_area._bokeh_server_id = output.metadata[EXEC_MIME_TYPE][\"server_id\"];\n",
       "    }\n",
       "  }\n",
       "\n",
       "  function register_renderer(events, OutputArea) {\n",
       "\n",
       "    function append_mime(data, metadata, element) {\n",
       "      // create a DOM node to render to\n",
       "      var toinsert = this.create_output_subarea(\n",
       "        metadata,\n",
       "        CLASS_NAME,\n",
       "        EXEC_MIME_TYPE\n",
       "      );\n",
       "      this.keyboard_manager.register_events(toinsert);\n",
       "      // Render to node\n",
       "      var props = {data: data, metadata: metadata[EXEC_MIME_TYPE]};\n",
       "      render(props, toinsert[toinsert.length - 1]);\n",
       "      element.append(toinsert);\n",
       "      return toinsert\n",
       "    }\n",
       "\n",
       "    /* Handle when an output is cleared or removed */\n",
       "    events.on('clear_output.CodeCell', handleClearOutput);\n",
       "    events.on('delete.Cell', handleClearOutput);\n",
       "\n",
       "    /* Handle when a new output is added */\n",
       "    events.on('output_added.OutputArea', handleAddOutput);\n",
       "\n",
       "    /**\n",
       "     * Register the mime type and append_mime function with output_area\n",
       "     */\n",
       "    OutputArea.prototype.register_mime_type(EXEC_MIME_TYPE, append_mime, {\n",
       "      /* Is output safe? */\n",
       "      safe: true,\n",
       "      /* Index of renderer in `output_area.display_order` */\n",
       "      index: 0\n",
       "    });\n",
       "  }\n",
       "\n",
       "  // register the mime type if in Jupyter Notebook environment and previously unregistered\n",
       "  if (root.Jupyter !== undefined) {\n",
       "    var events = require('base/js/events');\n",
       "    var OutputArea = require('notebook/js/outputarea').OutputArea;\n",
       "\n",
       "    if (OutputArea.prototype.mime_types().indexOf(EXEC_MIME_TYPE) == -1) {\n",
       "      register_renderer(events, OutputArea);\n",
       "    }\n",
       "  }\n",
       "\n",
       "  \n",
       "  if (typeof (root._bokeh_timeout) === \"undefined\" || force === true) {\n",
       "    root._bokeh_timeout = Date.now() + 5000;\n",
       "    root._bokeh_failed_load = false;\n",
       "  }\n",
       "\n",
       "  var NB_LOAD_WARNING = {'data': {'text/html':\n",
       "     \"<div style='background-color: #fdd'>\\n\"+\n",
       "     \"<p>\\n\"+\n",
       "     \"BokehJS does not appear to have successfully loaded. If loading BokehJS from CDN, this \\n\"+\n",
       "     \"may be due to a slow or bad network connection. Possible fixes:\\n\"+\n",
       "     \"</p>\\n\"+\n",
       "     \"<ul>\\n\"+\n",
       "     \"<li>re-rerun `output_notebook()` to attempt to load from CDN again, or</li>\\n\"+\n",
       "     \"<li>use INLINE resources instead, as so:</li>\\n\"+\n",
       "     \"</ul>\\n\"+\n",
       "     \"<code>\\n\"+\n",
       "     \"from bokeh.resources import INLINE\\n\"+\n",
       "     \"output_notebook(resources=INLINE)\\n\"+\n",
       "     \"</code>\\n\"+\n",
       "     \"</div>\"}};\n",
       "\n",
       "  function display_loaded() {\n",
       "    var el = document.getElementById(\"1001\");\n",
       "    if (el != null) {\n",
       "      el.textContent = \"BokehJS is loading...\";\n",
       "    }\n",
       "    if (root.Bokeh !== undefined) {\n",
       "      if (el != null) {\n",
       "        el.textContent = \"BokehJS \" + root.Bokeh.version + \" successfully loaded.\";\n",
       "      }\n",
       "    } else if (Date.now() < root._bokeh_timeout) {\n",
       "      setTimeout(display_loaded, 100)\n",
       "    }\n",
       "  }\n",
       "\n",
       "\n",
       "  function run_callbacks() {\n",
       "    try {\n",
       "      root._bokeh_onload_callbacks.forEach(function(callback) { callback() });\n",
       "    }\n",
       "    finally {\n",
       "      delete root._bokeh_onload_callbacks\n",
       "    }\n",
       "    console.info(\"Bokeh: all callbacks have finished\");\n",
       "  }\n",
       "\n",
       "  function load_libs(js_urls, callback) {\n",
       "    root._bokeh_onload_callbacks.push(callback);\n",
       "    if (root._bokeh_is_loading > 0) {\n",
       "      console.log(\"Bokeh: BokehJS is being loaded, scheduling callback at\", now());\n",
       "      return null;\n",
       "    }\n",
       "    if (js_urls == null || js_urls.length === 0) {\n",
       "      run_callbacks();\n",
       "      return null;\n",
       "    }\n",
       "    console.log(\"Bokeh: BokehJS not loaded, scheduling load and callback at\", now());\n",
       "    root._bokeh_is_loading = js_urls.length;\n",
       "    for (var i = 0; i < js_urls.length; i++) {\n",
       "      var url = js_urls[i];\n",
       "      var s = document.createElement('script');\n",
       "      s.src = url;\n",
       "      s.async = false;\n",
       "      s.onreadystatechange = s.onload = function() {\n",
       "        root._bokeh_is_loading--;\n",
       "        if (root._bokeh_is_loading === 0) {\n",
       "          console.log(\"Bokeh: all BokehJS libraries loaded\");\n",
       "          run_callbacks()\n",
       "        }\n",
       "      };\n",
       "      s.onerror = function() {\n",
       "        console.warn(\"failed to load library \" + url);\n",
       "      };\n",
       "      console.log(\"Bokeh: injecting script tag for BokehJS library: \", url);\n",
       "      document.getElementsByTagName(\"head\")[0].appendChild(s);\n",
       "    }\n",
       "  };var element = document.getElementById(\"1001\");\n",
       "  if (element == null) {\n",
       "    console.log(\"Bokeh: ERROR: autoload.js configured with elementid '1001' but no matching script tag was found. \")\n",
       "    return false;\n",
       "  }\n",
       "\n",
       "  var js_urls = [\"https://cdn.pydata.org/bokeh/release/bokeh-1.0.4.min.js\", \"https://cdn.pydata.org/bokeh/release/bokeh-widgets-1.0.4.min.js\", \"https://cdn.pydata.org/bokeh/release/bokeh-tables-1.0.4.min.js\", \"https://cdn.pydata.org/bokeh/release/bokeh-gl-1.0.4.min.js\"];\n",
       "\n",
       "  var inline_js = [\n",
       "    function(Bokeh) {\n",
       "      Bokeh.set_log_level(\"info\");\n",
       "    },\n",
       "    \n",
       "    function(Bokeh) {\n",
       "      \n",
       "    },\n",
       "    function(Bokeh) {\n",
       "      console.log(\"Bokeh: injecting CSS: https://cdn.pydata.org/bokeh/release/bokeh-1.0.4.min.css\");\n",
       "      Bokeh.embed.inject_css(\"https://cdn.pydata.org/bokeh/release/bokeh-1.0.4.min.css\");\n",
       "      console.log(\"Bokeh: injecting CSS: https://cdn.pydata.org/bokeh/release/bokeh-widgets-1.0.4.min.css\");\n",
       "      Bokeh.embed.inject_css(\"https://cdn.pydata.org/bokeh/release/bokeh-widgets-1.0.4.min.css\");\n",
       "      console.log(\"Bokeh: injecting CSS: https://cdn.pydata.org/bokeh/release/bokeh-tables-1.0.4.min.css\");\n",
       "      Bokeh.embed.inject_css(\"https://cdn.pydata.org/bokeh/release/bokeh-tables-1.0.4.min.css\");\n",
       "    }\n",
       "  ];\n",
       "\n",
       "  function run_inline_js() {\n",
       "    \n",
       "    if ((root.Bokeh !== undefined) || (force === true)) {\n",
       "      for (var i = 0; i < inline_js.length; i++) {\n",
       "        inline_js[i].call(root, root.Bokeh);\n",
       "      }if (force === true) {\n",
       "        display_loaded();\n",
       "      }} else if (Date.now() < root._bokeh_timeout) {\n",
       "      setTimeout(run_inline_js, 100);\n",
       "    } else if (!root._bokeh_failed_load) {\n",
       "      console.log(\"Bokeh: BokehJS failed to load within specified timeout.\");\n",
       "      root._bokeh_failed_load = true;\n",
       "    } else if (force !== true) {\n",
       "      var cell = $(document.getElementById(\"1001\")).parents('.cell').data().cell;\n",
       "      cell.output_area.append_execute_result(NB_LOAD_WARNING)\n",
       "    }\n",
       "\n",
       "  }\n",
       "\n",
       "  if (root._bokeh_is_loading === 0) {\n",
       "    console.log(\"Bokeh: BokehJS loaded, going straight to plotting\");\n",
       "    run_inline_js();\n",
       "  } else {\n",
       "    load_libs(js_urls, function() {\n",
       "      console.log(\"Bokeh: BokehJS plotting callback run at\", now());\n",
       "      run_inline_js();\n",
       "    });\n",
       "  }\n",
       "}(window));"
      ],
      "application/vnd.bokehjs_load.v0+json": "\n(function(root) {\n  function now() {\n    return new Date();\n  }\n\n  var force = true;\n\n  if (typeof (root._bokeh_onload_callbacks) === \"undefined\" || force === true) {\n    root._bokeh_onload_callbacks = [];\n    root._bokeh_is_loading = undefined;\n  }\n\n  \n\n  \n  if (typeof (root._bokeh_timeout) === \"undefined\" || force === true) {\n    root._bokeh_timeout = Date.now() + 5000;\n    root._bokeh_failed_load = false;\n  }\n\n  var NB_LOAD_WARNING = {'data': {'text/html':\n     \"<div style='background-color: #fdd'>\\n\"+\n     \"<p>\\n\"+\n     \"BokehJS does not appear to have successfully loaded. If loading BokehJS from CDN, this \\n\"+\n     \"may be due to a slow or bad network connection. Possible fixes:\\n\"+\n     \"</p>\\n\"+\n     \"<ul>\\n\"+\n     \"<li>re-rerun `output_notebook()` to attempt to load from CDN again, or</li>\\n\"+\n     \"<li>use INLINE resources instead, as so:</li>\\n\"+\n     \"</ul>\\n\"+\n     \"<code>\\n\"+\n     \"from bokeh.resources import INLINE\\n\"+\n     \"output_notebook(resources=INLINE)\\n\"+\n     \"</code>\\n\"+\n     \"</div>\"}};\n\n  function display_loaded() {\n    var el = document.getElementById(\"1001\");\n    if (el != null) {\n      el.textContent = \"BokehJS is loading...\";\n    }\n    if (root.Bokeh !== undefined) {\n      if (el != null) {\n        el.textContent = \"BokehJS \" + root.Bokeh.version + \" successfully loaded.\";\n      }\n    } else if (Date.now() < root._bokeh_timeout) {\n      setTimeout(display_loaded, 100)\n    }\n  }\n\n\n  function run_callbacks() {\n    try {\n      root._bokeh_onload_callbacks.forEach(function(callback) { callback() });\n    }\n    finally {\n      delete root._bokeh_onload_callbacks\n    }\n    console.info(\"Bokeh: all callbacks have finished\");\n  }\n\n  function load_libs(js_urls, callback) {\n    root._bokeh_onload_callbacks.push(callback);\n    if (root._bokeh_is_loading > 0) {\n      console.log(\"Bokeh: BokehJS is being loaded, scheduling callback at\", now());\n      return null;\n    }\n    if (js_urls == null || js_urls.length === 0) {\n      run_callbacks();\n      return null;\n    }\n    console.log(\"Bokeh: BokehJS not loaded, scheduling load and callback at\", now());\n    root._bokeh_is_loading = js_urls.length;\n    for (var i = 0; i < js_urls.length; i++) {\n      var url = js_urls[i];\n      var s = document.createElement('script');\n      s.src = url;\n      s.async = false;\n      s.onreadystatechange = s.onload = function() {\n        root._bokeh_is_loading--;\n        if (root._bokeh_is_loading === 0) {\n          console.log(\"Bokeh: all BokehJS libraries loaded\");\n          run_callbacks()\n        }\n      };\n      s.onerror = function() {\n        console.warn(\"failed to load library \" + url);\n      };\n      console.log(\"Bokeh: injecting script tag for BokehJS library: \", url);\n      document.getElementsByTagName(\"head\")[0].appendChild(s);\n    }\n  };var element = document.getElementById(\"1001\");\n  if (element == null) {\n    console.log(\"Bokeh: ERROR: autoload.js configured with elementid '1001' but no matching script tag was found. \")\n    return false;\n  }\n\n  var js_urls = [\"https://cdn.pydata.org/bokeh/release/bokeh-1.0.4.min.js\", \"https://cdn.pydata.org/bokeh/release/bokeh-widgets-1.0.4.min.js\", \"https://cdn.pydata.org/bokeh/release/bokeh-tables-1.0.4.min.js\", \"https://cdn.pydata.org/bokeh/release/bokeh-gl-1.0.4.min.js\"];\n\n  var inline_js = [\n    function(Bokeh) {\n      Bokeh.set_log_level(\"info\");\n    },\n    \n    function(Bokeh) {\n      \n    },\n    function(Bokeh) {\n      console.log(\"Bokeh: injecting CSS: https://cdn.pydata.org/bokeh/release/bokeh-1.0.4.min.css\");\n      Bokeh.embed.inject_css(\"https://cdn.pydata.org/bokeh/release/bokeh-1.0.4.min.css\");\n      console.log(\"Bokeh: injecting CSS: https://cdn.pydata.org/bokeh/release/bokeh-widgets-1.0.4.min.css\");\n      Bokeh.embed.inject_css(\"https://cdn.pydata.org/bokeh/release/bokeh-widgets-1.0.4.min.css\");\n      console.log(\"Bokeh: injecting CSS: https://cdn.pydata.org/bokeh/release/bokeh-tables-1.0.4.min.css\");\n      Bokeh.embed.inject_css(\"https://cdn.pydata.org/bokeh/release/bokeh-tables-1.0.4.min.css\");\n    }\n  ];\n\n  function run_inline_js() {\n    \n    if ((root.Bokeh !== undefined) || (force === true)) {\n      for (var i = 0; i < inline_js.length; i++) {\n        inline_js[i].call(root, root.Bokeh);\n      }if (force === true) {\n        display_loaded();\n      }} else if (Date.now() < root._bokeh_timeout) {\n      setTimeout(run_inline_js, 100);\n    } else if (!root._bokeh_failed_load) {\n      console.log(\"Bokeh: BokehJS failed to load within specified timeout.\");\n      root._bokeh_failed_load = true;\n    } else if (force !== true) {\n      var cell = $(document.getElementById(\"1001\")).parents('.cell').data().cell;\n      cell.output_area.append_execute_result(NB_LOAD_WARNING)\n    }\n\n  }\n\n  if (root._bokeh_is_loading === 0) {\n    console.log(\"Bokeh: BokehJS loaded, going straight to plotting\");\n    run_inline_js();\n  } else {\n    load_libs(js_urls, function() {\n      console.log(\"Bokeh: BokehJS plotting callback run at\", now());\n      run_inline_js();\n    });\n  }\n}(window));"
     },
     "metadata": {},
     "output_type": "display_data"
    }
   ],
   "source": [
    "# Pretty Graphing\n",
    "import pandas as pd\n",
    "\n",
    "import bebi103\n",
    "\n",
    "import altair as alt\n",
    "import altair_catplot as altcat\n",
    "import bokeh.plotting\n",
    "import bokeh.io\n",
    "\n",
    "bokeh.io.output_notebook()"
   ]
  },
  {
   "cell_type": "markdown",
   "metadata": {},
   "source": [
    "# Preliminary Analysis of Comments\n",
    "\n",
    "\n",
    "This notebook was used to analyze the metrics we looked at in our paper. For help installing necessary packages such as Bokeh, altair, etc., see http://bebi103.caltech.edu.s3-website-us-east-1.amazonaws.com/2018/tutorials/t0a_python_for_scientific_computing.html (a BE/Bi103 Tutorial on setting up Jupyter Lab and Anaconda to work with these packages)\n",
    "\n",
    "\n",
    "### Reading in all the comments\n",
    "\n",
    "We first ran getCommentThreads.py to get all the comments for all our submissions. Comments for election data was stored in a directory called `comments`, and other data in a directory called `nonpolitical`."
   ]
  },
  {
   "cell_type": "code",
   "execution_count": 16,
   "metadata": {},
   "outputs": [],
   "source": [
    "# Grab all the .json files\n",
    "# change 'nonpolitical/*.json' to 'comments/*.json' for just the election data.\n",
    "commentFiles = glob.glob('nonpolitical/*.json', recursive=True)"
   ]
  },
  {
   "cell_type": "markdown",
   "metadata": {},
   "source": [
    "Let's check how many files of comments we have."
   ]
  },
  {
   "cell_type": "code",
   "execution_count": 4,
   "metadata": {},
   "outputs": [
    {
     "data": {
      "text/plain": [
       "267"
      ]
     },
     "execution_count": 4,
     "metadata": {},
     "output_type": "execute_result"
    }
   ],
   "source": [
    "len(commentFiles)"
   ]
  },
  {
   "cell_type": "markdown",
   "metadata": {},
   "source": [
    "We will now create a giant dictionary where the keys that map submission IDs to all the comments in a submission."
   ]
  },
  {
   "cell_type": "code",
   "execution_count": 17,
   "metadata": {},
   "outputs": [],
   "source": [
    "# Put all the information into a massive dictionary, indexed by submission ID\n",
    "commentDict = {}\n",
    "for f in commentFiles:\n",
    "    with open(f) as json_file:  \n",
    "        commentDict[f[-11:-5]] = json.load(json_file)[\"data\"]\n",
    "    "
   ]
  },
  {
   "cell_type": "markdown",
   "metadata": {},
   "source": [
    "# Calculating Metrics\n",
    "\n",
    "\n",
    "Next, we're going to iterate through all the comments, figure out which ones got deltas and which ones didn't, and calculate the reading levels of each as well as analyze the sentiment for all these comments.\n",
    "\n",
    "This is a basically a bunch of nested `for` loops. It's not pretty, but it works. It takes ~5 minutes to run on comments from ~260 submissions."
   ]
  },
  {
   "cell_type": "code",
   "execution_count": 57,
   "metadata": {},
   "outputs": [
    {
     "name": "stdout",
     "output_type": "stream",
     "text": [
      "0\n",
      "10\n",
      "20\n",
      "30\n",
      "40\n",
      "50\n",
      "60\n",
      "70\n",
      "80\n",
      "90\n",
      "100\n",
      "110\n",
      "120\n",
      "130\n",
      "140\n",
      "150\n",
      "160\n",
      "170\n",
      "180\n",
      "190\n",
      "200\n",
      "210\n",
      "220\n",
      "230\n",
      "240\n"
     ]
    }
   ],
   "source": [
    "# Create a dict per submission of good authors\n",
    "deltaAuthors = {}\n",
    "\n",
    "# lists of Flesch Reading Ease scores\n",
    "complexityDeltaPosts = []\n",
    "complexityOtherPosts = []\n",
    "\n",
    "# Sentiment: a list of lists in the form [composite score, pos, neutral, negative]\n",
    "avgSentimentDeltaPosts = []\n",
    "avgSentimentOtherPosts = []\n",
    "\n",
    "# Lists of lists in form of [score, gilded, controversiality] where gilded + controversiality are 0/1\n",
    "scoreDeltaPosts = []\n",
    "scoreOtherPosts = []\n",
    "\n",
    "\n",
    "# Length data: lists of lists in the form of [avg sentence length, total word count]\n",
    "lengthDeltaPosts = []\n",
    "lengthOtherPosts = []\n",
    "\n",
    "# get all usernames, ids, and delta comments\n",
    "deltaComments = []\n",
    "otherComments = []\n",
    "\n",
    "i = 0\n",
    "for key, jsonData in commentDict.items():\n",
    "    # Print out iterations \n",
    "    if i % 10 == 0:\n",
    "        print(i)\n",
    "    deltaAuthors[key] = []\n",
    "    for x in range(len(jsonData)):\n",
    "        # Mine the deltabot comment to find the users who write the good comments\n",
    "        if (jsonData[x][\"author\"] == \"DeltaBot\" and \n",
    "                        \"awarded\" in jsonData[x][\"body\"]):\n",
    "                text = jsonData[x][\"body\"]\n",
    "                m = re.search('(.*)/u/(.*?) (.*)', text)\n",
    "                try: \n",
    "                    deltaAuthors[key].append(m.group(2)[:-1])\n",
    "                except AttributeError: \n",
    "                    continue\n",
    "        \n",
    "    # iterate through the comment thread a 2nd time to add the numeral info to our lists\n",
    "    for x in range(len(jsonData)):\n",
    "        text = jsonData[x][\"body\"]\n",
    "        newlineFree = text.replace(\"\\n\", \" \")\n",
    "        \n",
    "        # remove all URLs\n",
    "        urlFree = re.sub(r\"http\\S+\", \"\", newlineFree)\n",
    "        # Need to evaluate each comment for complexity\n",
    "        complexity = textstat.flesch_kincaid_grade(newlineFree)\n",
    "\n",
    "        # Next, we have to use nltk to break the paragraphs into sentences for VADER\n",
    "        # and evaluate sentiment for each sentence in the comment before averaging\n",
    "        # Note: positive sentiment: compound score >= 0.05\n",
    "        # neutral sentiment: (compound score > -0.05) and (compound score < 0.05)\n",
    "        # negative sentiment: compound score <= -0.05\n",
    "        sentence_list = tokenize.sent_tokenize(newlineFree)\n",
    "        parScore = 0.0\n",
    "        posScore = 0.0\n",
    "        negScore = 0.0\n",
    "        neuScore = 0.0\n",
    "    \n",
    "        avgLength = 0\n",
    "        totalLength = 0\n",
    "        analyzer = SentimentIntensityAnalyzer()\n",
    "        for sentence in sentence_list:\n",
    "            # calculate sentence lengths by splitting each \n",
    "            totalLength += len(sentence.split(\" \"))\n",
    "            vs = analyzer.polarity_scores(sentence)\n",
    "            parScore += vs[\"compound\"]\n",
    "            posScore += vs[\"pos\"]\n",
    "            negScore += vs[\"neg\"]\n",
    "            neuScore += vs[\"neu\"]\n",
    "\n",
    "            \n",
    "        avgSentiment = [parScore / len(sentence_list), posScore / len(sentence_list),\n",
    "                        neuScore / len(sentence_list), negScore / len(sentence_list)]\n",
    "\n",
    "        avgLength = totalLength / len(sentence_list)\n",
    "        \n",
    "\n",
    "        \n",
    "        # Last but not least, we need to grab the upvotes, gilded status, controversiality\n",
    "        try: \n",
    "            currPostInfo = [jsonData[x][\"score\"], jsonData[x][\"gilded\"], \n",
    "                            jsonData[x][\"controversiality\"]]\n",
    "        except KeyError:\n",
    "            continue\n",
    "\n",
    "        # add the data to the correct lists\n",
    "        if (jsonData[x][\"author\"] in deltaAuthors[key]):\n",
    "            complexityDeltaPosts.append(complexity)\n",
    "            avgSentimentDeltaPosts.append(avgSentiment)\n",
    "            scoreDeltaPosts.append(currPostInfo)\n",
    "            lengthDeltaPosts.append([avgLength, totalLength])\n",
    "            if len(urlFree.split()) >= 5:\n",
    "                deltaComments.append([key, jsonData[x][\"author\"], urlFree, \"delta\"])\n",
    "            \n",
    "        else:\n",
    "            complexityOtherPosts.append(complexity)\n",
    "            avgSentimentOtherPosts.append(avgSentiment)\n",
    "            scoreOtherPosts.append(currPostInfo)\n",
    "            lengthOtherPosts.append([avgLength, totalLength, 0])\n",
    "            otherComments.append([key, jsonData[x][\"author\"], urlFree, \"none\"])\n",
    "    \n",
    "    \n",
    "    i += 1\n"
   ]
  },
  {
   "cell_type": "markdown",
   "metadata": {},
   "source": [
    "For future use, we saved dataframes with comment data to files."
   ]
  },
  {
   "cell_type": "code",
   "execution_count": 15,
   "metadata": {},
   "outputs": [],
   "source": [
    "df = pd.DataFrame(deltaComments, columns=[\"id\", \"author\", \"selftext\", \"deltaBool\"])\n",
    "df.to_csv(\"delta_comments.csv\", index=False)\n",
    "df = pd.DataFrame(otherComments, columns=[\"id\", \"author\", \"selftext\", \"deltaBool\"])\n",
    "df.to_csv(\"other_comments.csv\", index=False)"
   ]
  },
  {
   "cell_type": "markdown",
   "metadata": {},
   "source": [
    "# Graphs\n"
   ]
  },
  {
   "cell_type": "code",
   "execution_count": 59,
   "metadata": {},
   "outputs": [],
   "source": [
    "def plot_boxplots(deltaData, otherData, title):\n",
    "    deltaData = np.array(deltaData)\n",
    "    otherData = np.array(otherData)\n",
    "    plt.rcParams['figure.figsize'] = [10, 5]\n",
    "    dataDict = {\"delta\" : deltaData, \"other\" : otherData}\n",
    "    fig, ax = plt.subplots()\n",
    "    ax.boxplot(dataDict.values(), vert=False, showmeans=True)\n",
    "    # ax.set_yticklabels(dataDict.keys())\n",
    "    ax.set_yticklabels([\"Delta Receiving Comments\", \"Non-Delta Receiving Comments\"])\n",
    "    ax.set_xlabel(title)\n",
    "\n",
    "    plt.axvline(x=np.mean(deltaData), c='red', label='Mean of Delta Receiving Comments')\n",
    "    plt.axvline(x=np.mean(otherData),  c='blue',label='Mean of Other Comments')\n",
    "    plt.legend()"
   ]
  },
  {
   "cell_type": "markdown",
   "metadata": {},
   "source": [
    "### Flesch Reading Ease"
   ]
  },
  {
   "cell_type": "code",
   "execution_count": 58,
   "metadata": {},
   "outputs": [
    {
     "data": {
      "text/plain": [
       "<matplotlib.legend.Legend at 0x1d2d990f60>"
      ]
     },
     "execution_count": 58,
     "metadata": {},
     "output_type": "execute_result"
    },
    {
     "data": {
      "image/png": "[encoded data removed]",
      "text/plain": [
       "<Figure size 720x360 with 1 Axes>"
      ]
     },
     "metadata": {
      "needs_background": "light"
     },
     "output_type": "display_data"
    }
   ],
   "source": [
    "plot_boxplots(np.array(complexityDeltaPosts , complexityOtherPosts)[:,0], \"Flesch Reading Ease Score\")"
   ]
  },
  {
   "cell_type": "markdown",
   "metadata": {},
   "source": [
    "## Comment Score"
   ]
  },
  {
   "cell_type": "code",
   "execution_count": 10,
   "metadata": {},
   "outputs": [
    {
     "data": {
      "text/html": [
       "\n",
       "\n",
       "\n",
       "\n",
       "\n",
       "\n",
       "  <div class=\"bk-root\" id=\"e676b069-8a9c-4944-8f4f-bc8cb4b95d22\" data-root-id=\"1003\"></div>\n"
      ]
     },
     "metadata": {},
     "output_type": "display_data"
    },
    {
     "data": {
      "application/javascript": [
       "(function(root) {\n",
       "  function embed_document(root) {\n",
       "    \n",
       "  var docs_json = {\"89d09dc0-8d23-418e-a35a-ae95505b1450\":{\"roots\":{\"references\":[{\"attributes\":{\"below\":[{\"id\":\"1012\",\"type\":\"LinearAxis\"}],\"left\":[{\"id\":\"1017\",\"type\":\"LinearAxis\"}],\"plot_height\":300,\"plot_width\":450,\"renderers\":[{\"id\":\"1012\",\"type\":\"LinearAxis\"},{\"id\":\"1016\",\"type\":\"Grid\"},{\"id\":\"1017\",\"type\":\"LinearAxis\"},{\"id\":\"1021\",\"type\":\"Grid\"},{\"id\":\"1030\",\"type\":\"BoxAnnotation\"},{\"id\":\"1040\",\"type\":\"GlyphRenderer\"},{\"id\":\"1045\",\"type\":\"GlyphRenderer\"},{\"id\":\"1050\",\"type\":\"GlyphRenderer\"}],\"title\":null,\"toolbar\":{\"id\":\"1028\",\"type\":\"Toolbar\"},\"x_range\":{\"id\":\"1005\",\"type\":\"DataRange1d\"},\"x_scale\":{\"id\":\"1008\",\"type\":\"LinearScale\"},\"y_range\":{\"id\":\"1002\",\"type\":\"DataRange1d\"},\"y_scale\":{\"id\":\"1010\",\"type\":\"LinearScale\"}},\"id\":\"1003\",\"subtype\":\"Figure\",\"type\":\"Plot\"},{\"attributes\":{\"line_alpha\":0.1,\"line_color\":\"#1f77b4\",\"x\":{\"field\":\"x\"},\"y\":{\"field\":\"y\"}},\"id\":\"1044\",\"type\":\"Line\"},{\"attributes\":{\"overlay\":{\"id\":\"1030\",\"type\":\"BoxAnnotation\"}},\"id\":\"1024\",\"type\":\"BoxZoomTool\"},{\"attributes\":{},\"id\":\"1060\",\"type\":\"UnionRenderers\"},{\"attributes\":{\"fill_alpha\":0.1,\"fill_color\":\"#1f77b4\",\"line_alpha\":0.1,\"line_color\":\"#1f77b4\",\"line_width\":0,\"x\":{\"field\":\"x\"},\"y\":{\"field\":\"y\"}},\"id\":\"1039\",\"type\":\"Patch\"},{\"attributes\":{\"source\":{\"id\":\"1042\",\"type\":\"ColumnDataSource\"}},\"id\":\"1046\",\"type\":\"CDSView\"},{\"attributes\":{},\"id\":\"1010\",\"type\":\"LinearScale\"},{\"attributes\":{},\"id\":\"1025\",\"type\":\"SaveTool\"},{\"attributes\":{},\"id\":\"1013\",\"type\":\"BasicTicker\"},{\"attributes\":{\"callback\":null,\"data\":{\"x\":{\"__ndarray__\":\"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\",\"dtype\":\"float64\",\"shape\":[202]},\"y\":{\"__ndarray__\":\"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\",\"dtype\":\"float64\",\"shape\":[202]}},\"selected\":{\"id\":\"1059\",\"type\":\"Selection\"},\"selection_policy\":{\"id\":\"1060\",\"type\":\"UnionRenderers\"}},\"id\":\"1042\",\"type\":\"ColumnDataSource\"},{\"attributes\":{\"callback\":null},\"id\":\"1005\",\"type\":\"DataRange1d\"},{\"attributes\":{},\"id\":\"1062\",\"type\":\"UnionRenderers\"},{\"attributes\":{},\"id\":\"1054\",\"type\":\"BasicTickFormatter\"},{\"attributes\":{},\"id\":\"1058\",\"type\":\"UnionRenderers\"},{\"attributes\":{\"plot\":{\"id\":\"1003\",\"subtype\":\"Figure\",\"type\":\"Plot\"},\"ticker\":{\"id\":\"1013\",\"type\":\"BasicTicker\"}},\"id\":\"1016\",\"type\":\"Grid\"},{\"attributes\":{\"source\":{\"id\":\"1037\",\"type\":\"ColumnDataSource\"}},\"id\":\"1041\",\"type\":\"CDSView\"},{\"attributes\":{},\"id\":\"1056\",\"type\":\"BasicTickFormatter\"},{\"attributes\":{},\"id\":\"1023\",\"type\":\"WheelZoomTool\"},{\"attributes\":{\"axis_label\":\"count\",\"formatter\":{\"id\":\"1056\",\"type\":\"BasicTickFormatter\"},\"plot\":{\"id\":\"1003\",\"subtype\":\"Figure\",\"type\":\"Plot\"},\"ticker\":{\"id\":\"1018\",\"type\":\"BasicTicker\"}},\"id\":\"1017\",\"type\":\"LinearAxis\"},{\"attributes\":{\"active_drag\":\"auto\",\"active_inspect\":\"auto\",\"active_multi\":null,\"active_scroll\":\"auto\",\"active_tap\":\"auto\",\"tools\":[{\"id\":\"1022\",\"type\":\"PanTool\"},{\"id\":\"1023\",\"type\":\"WheelZoomTool\"},{\"id\":\"1024\",\"type\":\"BoxZoomTool\"},{\"id\":\"1025\",\"type\":\"SaveTool\"},{\"id\":\"1026\",\"type\":\"ResetTool\"},{\"id\":\"1027\",\"type\":\"HelpTool\"}]},\"id\":\"1028\",\"type\":\"Toolbar\"},{\"attributes\":{\"source\":{\"id\":\"1047\",\"type\":\"ColumnDataSource\"}},\"id\":\"1051\",\"type\":\"CDSView\"},{\"attributes\":{},\"id\":\"1057\",\"type\":\"Selection\"},{\"attributes\":{},\"id\":\"1027\",\"type\":\"HelpTool\"},{\"attributes\":{},\"id\":\"1059\",\"type\":\"Selection\"},{\"attributes\":{\"data_source\":{\"id\":\"1047\",\"type\":\"ColumnDataSource\"},\"glyph\":{\"id\":\"1048\",\"type\":\"Line\"},\"hover_glyph\":null,\"muted_glyph\":null,\"nonselection_glyph\":{\"id\":\"1049\",\"type\":\"Line\"},\"selection_glyph\":null,\"view\":{\"id\":\"1051\",\"type\":\"CDSView\"}},\"id\":\"1050\",\"type\":\"GlyphRenderer\"},{\"attributes\":{\"callback\":null,\"data\":{\"x\":[-6.0,622.0],\"y\":[0,0]},\"selected\":{\"id\":\"1061\",\"type\":\"Selection\"},\"selection_policy\":{\"id\":\"1062\",\"type\":\"UnionRenderers\"}},\"id\":\"1047\",\"type\":\"ColumnDataSource\"},{\"attributes\":{},\"id\":\"1018\",\"type\":\"BasicTicker\"},{\"attributes\":{\"fill_alpha\":0.5,\"fill_color\":\"#1f77b4\",\"line_alpha\":0,\"line_color\":\"#1f77b4\",\"line_width\":0,\"x\":{\"field\":\"x\"},\"y\":{\"field\":\"y\"}},\"id\":\"1038\",\"type\":\"Patch\"},{\"attributes\":{\"line_color\":\"#1f77b4\",\"x\":{\"field\":\"x\"},\"y\":{\"field\":\"y\"}},\"id\":\"1043\",\"type\":\"Line\"},{\"attributes\":{\"formatter\":{\"id\":\"1054\",\"type\":\"BasicTickFormatter\"},\"plot\":{\"id\":\"1003\",\"subtype\":\"Figure\",\"type\":\"Plot\"},\"ticker\":{\"id\":\"1013\",\"type\":\"BasicTicker\"}},\"id\":\"1012\",\"type\":\"LinearAxis\"},{\"attributes\":{},\"id\":\"1061\",\"type\":\"Selection\"},{\"attributes\":{\"callback\":null,\"data\":{\"x\":{\"__ndarray__\":\"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\",\"dtype\":\"float64\",\"shape\":[204]},\"y\":{\"__ndarray__\":\"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\",\"dtype\":\"float64\",\"shape\":[204]}},\"selected\":{\"id\":\"1057\",\"type\":\"Selection\"},\"selection_policy\":{\"id\":\"1058\",\"type\":\"UnionRenderers\"}},\"id\":\"1037\",\"type\":\"ColumnDataSource\"},{\"attributes\":{\"line_color\":\"#1f77b4\",\"x\":{\"field\":\"x\"},\"y\":{\"field\":\"y\"}},\"id\":\"1048\",\"type\":\"Line\"},{\"attributes\":{},\"id\":\"1026\",\"type\":\"ResetTool\"},{\"attributes\":{\"bottom_units\":\"screen\",\"fill_alpha\":{\"value\":0.5},\"fill_color\":{\"value\":\"lightgrey\"},\"left_units\":\"screen\",\"level\":\"overlay\",\"line_alpha\":{\"value\":1.0},\"line_color\":{\"value\":\"black\"},\"line_dash\":[4,4],\"line_width\":{\"value\":2},\"plot\":null,\"render_mode\":\"css\",\"right_units\":\"screen\",\"top_units\":\"screen\"},\"id\":\"1030\",\"type\":\"BoxAnnotation\"},{\"attributes\":{\"dimension\":1,\"plot\":{\"id\":\"1003\",\"subtype\":\"Figure\",\"type\":\"Plot\"},\"ticker\":{\"id\":\"1018\",\"type\":\"BasicTicker\"}},\"id\":\"1021\",\"type\":\"Grid\"},{\"attributes\":{\"line_alpha\":0.1,\"line_color\":\"#1f77b4\",\"x\":{\"field\":\"x\"},\"y\":{\"field\":\"y\"}},\"id\":\"1049\",\"type\":\"Line\"},{\"attributes\":{},\"id\":\"1008\",\"type\":\"LinearScale\"},{\"attributes\":{},\"id\":\"1022\",\"type\":\"PanTool\"},{\"attributes\":{\"callback\":null,\"start\":0},\"id\":\"1002\",\"type\":\"DataRange1d\"},{\"attributes\":{\"data_source\":{\"id\":\"1042\",\"type\":\"ColumnDataSource\"},\"glyph\":{\"id\":\"1043\",\"type\":\"Line\"},\"hover_glyph\":null,\"muted_glyph\":null,\"nonselection_glyph\":{\"id\":\"1044\",\"type\":\"Line\"},\"selection_glyph\":null,\"view\":{\"id\":\"1046\",\"type\":\"CDSView\"}},\"id\":\"1045\",\"type\":\"GlyphRenderer\"},{\"attributes\":{\"data_source\":{\"id\":\"1037\",\"type\":\"ColumnDataSource\"},\"glyph\":{\"id\":\"1038\",\"type\":\"Patch\"},\"hover_glyph\":null,\"muted_glyph\":null,\"nonselection_glyph\":{\"id\":\"1039\",\"type\":\"Patch\"},\"selection_glyph\":null,\"view\":{\"id\":\"1041\",\"type\":\"CDSView\"}},\"id\":\"1040\",\"type\":\"GlyphRenderer\"}],\"root_ids\":[\"1003\"]},\"title\":\"Bokeh Application\",\"version\":\"1.0.4\"}};\n",
       "  var render_items = [{\"docid\":\"89d09dc0-8d23-418e-a35a-ae95505b1450\",\"roots\":{\"1003\":\"e676b069-8a9c-4944-8f4f-bc8cb4b95d22\"}}];\n",
       "  root.Bokeh.embed.embed_items_notebook(docs_json, render_items);\n",
       "\n",
       "  }\n",
       "  if (root.Bokeh !== undefined) {\n",
       "    embed_document(root);\n",
       "  } else {\n",
       "    var attempts = 0;\n",
       "    var timer = setInterval(function(root) {\n",
       "      if (root.Bokeh !== undefined) {\n",
       "        embed_document(root);\n",
       "        clearInterval(timer);\n",
       "      }\n",
       "      attempts++;\n",
       "      if (attempts > 100) {\n",
       "        console.log(\"Bokeh: ERROR: Unable to run BokehJS code because BokehJS library is missing\");\n",
       "        clearInterval(timer);\n",
       "      }\n",
       "    }, 10, root)\n",
       "  }\n",
       "})(window);"
      ],
      "application/vnd.bokehjs_exec.v0+json": ""
     },
     "metadata": {
      "application/vnd.bokehjs_exec.v0+json": {
       "id": "1003"
      }
     },
     "output_type": "display_data"
    }
   ],
   "source": [
    "# histogram for informational purposes only\n",
    "p = bebi103.viz.histogram(data=scoreDeltaPosts, \n",
    "                          kind='step_filled', \n",
    "                          fill_alpha=0.5, bins=100, density=False)\n",
    "bokeh.io.show(p)"
   ]
  },
  {
   "cell_type": "code",
   "execution_count": 60,
   "metadata": {},
   "outputs": [
    {
     "data": {
      "image/png": "[encoded data removed]",
      "text/plain": [
       "<Figure size 720x360 with 1 Axes>"
      ]
     },
     "metadata": {
      "needs_background": "light"
     },
     "output_type": "display_data"
    }
   ],
   "source": [
    "plot_boxplots(np.array(scoreDeltaPosts)[:,0], np.array(scoreOtherPosts)[:,0], \"Comment Score\")"
   ]
  },
  {
   "cell_type": "code",
   "execution_count": 61,
   "metadata": {},
   "outputs": [
    {
     "name": "stdout",
     "output_type": "stream",
     "text": [
      "28.721438230707417\n",
      "12.042383366284053\n"
     ]
    }
   ],
   "source": [
    "print(np.std(np.array(scoreDeltaPosts)[:,0]))\n",
    "print(np.std(np.array(scoreOtherPosts)[:,0]))"
   ]
  },
  {
   "cell_type": "markdown",
   "metadata": {},
   "source": [
    "## Sentiment"
   ]
  },
  {
   "cell_type": "code",
   "execution_count": 62,
   "metadata": {},
   "outputs": [],
   "source": [
    "avgSentimentDeltaPosts = np.array(avgSentimentDeltaPosts)\n",
    "avgSentimentOtherPosts = np.array(avgSentimentOtherPosts)\n"
   ]
  },
  {
   "cell_type": "code",
   "execution_count": 63,
   "metadata": {},
   "outputs": [
    {
     "data": {
      "text/plain": [
       "<matplotlib.legend.Legend at 0x1d2ec57a90>"
      ]
     },
     "execution_count": 63,
     "metadata": {},
     "output_type": "execute_result"
    },
    {
     "data": {
      "image/png": "[encoded data removed]",
      "text/plain": [
       "<Figure size 720x360 with 1 Axes>"
      ]
     },
     "metadata": {
      "needs_background": "light"
     },
     "output_type": "display_data"
    }
   ],
   "source": [
    "plot_boxplots(avgSentimentDeltaPosts[:,0], avgSentimentOtherPosts[:,0], \"Sentiment\")"
   ]
  },
  {
   "cell_type": "code",
   "execution_count": 64,
   "metadata": {},
   "outputs": [
    {
     "name": "stdout",
     "output_type": "stream",
     "text": [
      "0.02424678206083488\n",
      "0.011987670312967375\n"
     ]
    }
   ],
   "source": [
    "print(np.mean(avgSentimentDeltaPosts[:,0]))\n",
    "print(np.mean(avgSentimentOtherPosts[:,0]))"
   ]
  },
  {
   "cell_type": "markdown",
   "metadata": {},
   "source": [
    "## Histograms for Flesch Reading Ease\n",
    "\n",
    "These were not used in our final paper...these are kinda out of order too, sorry about that."
   ]
  },
  {
   "cell_type": "code",
   "execution_count": 65,
   "metadata": {},
   "outputs": [
    {
     "data": {
      "text/html": [
       "\n",
       "\n",
       "\n",
       "\n",
       "\n",
       "\n",
       "  <div class=\"bk-root\" id=\"93a4c1a3-7997-4621-845b-6e0cddd51822\" data-root-id=\"1441\"></div>\n"
      ]
     },
     "metadata": {},
     "output_type": "display_data"
    },
    {
     "data": {
      "application/javascript": [
       "(function(root) {\n",
       "  function embed_document(root) {\n",
       "    \n",
       "  var docs_json = {\"0ac48a9f-03d5-4b48-85e4-672c5a6c706f\":{\"roots\":{\"references\":[{\"attributes\":{\"below\":[{\"id\":\"1450\",\"type\":\"LinearAxis\"}],\"left\":[{\"id\":\"1455\",\"type\":\"LinearAxis\"}],\"plot_height\":300,\"plot_width\":450,\"renderers\":[{\"id\":\"1450\",\"type\":\"LinearAxis\"},{\"id\":\"1454\",\"type\":\"Grid\"},{\"id\":\"1455\",\"type\":\"LinearAxis\"},{\"id\":\"1459\",\"type\":\"Grid\"},{\"id\":\"1468\",\"type\":\"BoxAnnotation\"},{\"id\":\"1478\",\"type\":\"GlyphRenderer\"},{\"id\":\"1483\",\"type\":\"GlyphRenderer\"},{\"id\":\"1488\",\"type\":\"GlyphRenderer\"}],\"title\":null,\"toolbar\":{\"id\":\"1466\",\"type\":\"Toolbar\"},\"x_range\":{\"id\":\"1443\",\"type\":\"DataRange1d\"},\"x_scale\":{\"id\":\"1446\",\"type\":\"LinearScale\"},\"y_range\":{\"id\":\"1440\",\"type\":\"DataRange1d\"},\"y_scale\":{\"id\":\"1448\",\"type\":\"LinearScale\"}},\"id\":\"1441\",\"subtype\":\"Figure\",\"type\":\"Plot\"},{\"attributes\":{\"active_drag\":\"auto\",\"active_inspect\":\"auto\",\"active_multi\":null,\"active_scroll\":\"auto\",\"active_tap\":\"auto\",\"tools\":[{\"id\":\"1460\",\"type\":\"PanTool\"},{\"id\":\"1461\",\"type\":\"WheelZoomTool\"},{\"id\":\"1462\",\"type\":\"BoxZoomTool\"},{\"id\":\"1463\",\"type\":\"SaveTool\"},{\"id\":\"1464\",\"type\":\"ResetTool\"},{\"id\":\"1465\",\"type\":\"HelpTool\"}]},\"id\":\"1466\",\"type\":\"Toolbar\"},{\"attributes\":{},\"id\":\"1533\",\"type\":\"Selection\"},{\"attributes\":{\"plot\":{\"id\":\"1441\",\"subtype\":\"Figure\",\"type\":\"Plot\"},\"ticker\":{\"id\":\"1451\",\"type\":\"BasicTicker\"}},\"id\":\"1454\",\"type\":\"Grid\"},{\"attributes\":{\"callback\":null,\"data\":{\"x\":{\"__ndarray__\":\"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\",\"dtype\":\"float64\",\"shape\":[202]},\"y\":{\"__ndarray__\":\"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\",\"dtype\":\"float64\",\"shape\":[202]}},\"selected\":{\"id\":\"1535\",\"type\":\"Selection\"},\"selection_policy\":{\"id\":\"1534\",\"type\":\"UnionRenderers\"}},\"id\":\"1480\",\"type\":\"ColumnDataSource\"},{\"attributes\":{\"dimension\":1,\"plot\":{\"id\":\"1441\",\"subtype\":\"Figure\",\"type\":\"Plot\"},\"ticker\":{\"id\":\"1456\",\"type\":\"BasicTicker\"}},\"id\":\"1459\",\"type\":\"Grid\"},{\"attributes\":{},\"id\":\"1536\",\"type\":\"UnionRenderers\"},{\"attributes\":{\"line_color\":\"#1f77b4\",\"x\":{\"field\":\"x\"},\"y\":{\"field\":\"y\"}},\"id\":\"1486\",\"type\":\"Line\"},{\"attributes\":{},\"id\":\"1535\",\"type\":\"Selection\"},{\"attributes\":{},\"id\":\"1456\",\"type\":\"BasicTicker\"},{\"attributes\":{\"line_alpha\":0.1,\"line_color\":\"#1f77b4\",\"x\":{\"field\":\"x\"},\"y\":{\"field\":\"y\"}},\"id\":\"1487\",\"type\":\"Line\"},{\"attributes\":{\"data_source\":{\"id\":\"1475\",\"type\":\"ColumnDataSource\"},\"glyph\":{\"id\":\"1476\",\"type\":\"Patch\"},\"hover_glyph\":null,\"muted_glyph\":null,\"nonselection_glyph\":{\"id\":\"1477\",\"type\":\"Patch\"},\"selection_glyph\":null,\"view\":{\"id\":\"1479\",\"type\":\"CDSView\"}},\"id\":\"1478\",\"type\":\"GlyphRenderer\"},{\"attributes\":{\"source\":{\"id\":\"1475\",\"type\":\"ColumnDataSource\"}},\"id\":\"1479\",\"type\":\"CDSView\"},{\"attributes\":{},\"id\":\"1465\",\"type\":\"HelpTool\"},{\"attributes\":{\"axis_label\":\"Flesch Reading Ease of Delta-Receiving Comments\",\"formatter\":{\"id\":\"1529\",\"type\":\"BasicTickFormatter\"},\"plot\":{\"id\":\"1441\",\"subtype\":\"Figure\",\"type\":\"Plot\"},\"ticker\":{\"id\":\"1451\",\"type\":\"BasicTicker\"}},\"id\":\"1450\",\"type\":\"LinearAxis\"},{\"attributes\":{},\"id\":\"1463\",\"type\":\"SaveTool\"},{\"attributes\":{\"axis_label\":\"Frequency\",\"formatter\":{\"id\":\"1527\",\"type\":\"BasicTickFormatter\"},\"plot\":{\"id\":\"1441\",\"subtype\":\"Figure\",\"type\":\"Plot\"},\"ticker\":{\"id\":\"1456\",\"type\":\"BasicTicker\"}},\"id\":\"1455\",\"type\":\"LinearAxis\"},{\"attributes\":{},\"id\":\"1461\",\"type\":\"WheelZoomTool\"},{\"attributes\":{\"source\":{\"id\":\"1485\",\"type\":\"ColumnDataSource\"}},\"id\":\"1489\",\"type\":\"CDSView\"},{\"attributes\":{},\"id\":\"1464\",\"type\":\"ResetTool\"},{\"attributes\":{\"data_source\":{\"id\":\"1480\",\"type\":\"ColumnDataSource\"},\"glyph\":{\"id\":\"1481\",\"type\":\"Line\"},\"hover_glyph\":null,\"muted_glyph\":null,\"nonselection_glyph\":{\"id\":\"1482\",\"type\":\"Line\"},\"selection_glyph\":null,\"view\":{\"id\":\"1484\",\"type\":\"CDSView\"}},\"id\":\"1483\",\"type\":\"GlyphRenderer\"},{\"attributes\":{\"callback\":null,\"start\":0},\"id\":\"1440\",\"type\":\"DataRange1d\"},{\"attributes\":{\"callback\":null},\"id\":\"1443\",\"type\":\"DataRange1d\"},{\"attributes\":{},\"id\":\"1451\",\"type\":\"BasicTicker\"},{\"attributes\":{\"overlay\":{\"id\":\"1468\",\"type\":\"BoxAnnotation\"}},\"id\":\"1462\",\"type\":\"BoxZoomTool\"},{\"attributes\":{},\"id\":\"1534\",\"type\":\"UnionRenderers\"},{\"attributes\":{\"callback\":null,\"data\":{\"x\":{\"__ndarray__\":\"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\",\"dtype\":\"float64\",\"shape\":[204]},\"y\":{\"__ndarray__\":\"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\",\"dtype\":\"float64\",\"shape\":[204]}},\"selected\":{\"id\":\"1533\",\"type\":\"Selection\"},\"selection_policy\":{\"id\":\"1532\",\"type\":\"UnionRenderers\"}},\"id\":\"1475\",\"type\":\"ColumnDataSource\"},{\"attributes\":{},\"id\":\"1446\",\"type\":\"LinearScale\"},{\"attributes\":{},\"id\":\"1460\",\"type\":\"PanTool\"},{\"attributes\":{},\"id\":\"1527\",\"type\":\"BasicTickFormatter\"},{\"attributes\":{\"fill_alpha\":0.1,\"fill_color\":\"#1f77b4\",\"line_alpha\":0.1,\"line_color\":\"#1f77b4\",\"line_width\":0,\"x\":{\"field\":\"x\"},\"y\":{\"field\":\"y\"}},\"id\":\"1477\",\"type\":\"Patch\"},{\"attributes\":{\"line_color\":\"#1f77b4\",\"x\":{\"field\":\"x\"},\"y\":{\"field\":\"y\"}},\"id\":\"1481\",\"type\":\"Line\"},{\"attributes\":{},\"id\":\"1448\",\"type\":\"LinearScale\"},{\"attributes\":{\"bottom_units\":\"screen\",\"fill_alpha\":{\"value\":0.5},\"fill_color\":{\"value\":\"lightgrey\"},\"left_units\":\"screen\",\"level\":\"overlay\",\"line_alpha\":{\"value\":1.0},\"line_color\":{\"value\":\"black\"},\"line_dash\":[4,4],\"line_width\":{\"value\":2},\"plot\":null,\"render_mode\":\"css\",\"right_units\":\"screen\",\"top_units\":\"screen\"},\"id\":\"1468\",\"type\":\"BoxAnnotation\"},{\"attributes\":{},\"id\":\"1532\",\"type\":\"UnionRenderers\"},{\"attributes\":{},\"id\":\"1537\",\"type\":\"Selection\"},{\"attributes\":{},\"id\":\"1529\",\"type\":\"BasicTickFormatter\"},{\"attributes\":{\"line_alpha\":0.1,\"line_color\":\"#1f77b4\",\"x\":{\"field\":\"x\"},\"y\":{\"field\":\"y\"}},\"id\":\"1482\",\"type\":\"Line\"},{\"attributes\":{\"callback\":null,\"data\":{\"x\":[-3.5,289.7],\"y\":[0,0]},\"selected\":{\"id\":\"1537\",\"type\":\"Selection\"},\"selection_policy\":{\"id\":\"1536\",\"type\":\"UnionRenderers\"}},\"id\":\"1485\",\"type\":\"ColumnDataSource\"},{\"attributes\":{\"source\":{\"id\":\"1480\",\"type\":\"ColumnDataSource\"}},\"id\":\"1484\",\"type\":\"CDSView\"},{\"attributes\":{\"data_source\":{\"id\":\"1485\",\"type\":\"ColumnDataSource\"},\"glyph\":{\"id\":\"1486\",\"type\":\"Line\"},\"hover_glyph\":null,\"muted_glyph\":null,\"nonselection_glyph\":{\"id\":\"1487\",\"type\":\"Line\"},\"selection_glyph\":null,\"view\":{\"id\":\"1489\",\"type\":\"CDSView\"}},\"id\":\"1488\",\"type\":\"GlyphRenderer\"},{\"attributes\":{\"fill_alpha\":0.5,\"fill_color\":\"#1f77b4\",\"line_alpha\":0,\"line_color\":\"#1f77b4\",\"line_width\":0,\"x\":{\"field\":\"x\"},\"y\":{\"field\":\"y\"}},\"id\":\"1476\",\"type\":\"Patch\"}],\"root_ids\":[\"1441\"]},\"title\":\"Bokeh Application\",\"version\":\"1.0.4\"}};\n",
       "  var render_items = [{\"docid\":\"0ac48a9f-03d5-4b48-85e4-672c5a6c706f\",\"roots\":{\"1441\":\"93a4c1a3-7997-4621-845b-6e0cddd51822\"}}];\n",
       "  root.Bokeh.embed.embed_items_notebook(docs_json, render_items);\n",
       "\n",
       "  }\n",
       "  if (root.Bokeh !== undefined) {\n",
       "    embed_document(root);\n",
       "  } else {\n",
       "    var attempts = 0;\n",
       "    var timer = setInterval(function(root) {\n",
       "      if (root.Bokeh !== undefined) {\n",
       "        embed_document(root);\n",
       "        clearInterval(timer);\n",
       "      }\n",
       "      attempts++;\n",
       "      if (attempts > 100) {\n",
       "        console.log(\"Bokeh: ERROR: Unable to run BokehJS code because BokehJS library is missing\");\n",
       "        clearInterval(timer);\n",
       "      }\n",
       "    }, 10, root)\n",
       "  }\n",
       "})(window);"
      ],
      "application/vnd.bokehjs_exec.v0+json": ""
     },
     "metadata": {
      "application/vnd.bokehjs_exec.v0+json": {
       "id": "1441"
      }
     },
     "output_type": "display_data"
    },
    {
     "name": "stdout",
     "output_type": "stream",
     "text": [
      "19.995750332005315\n"
     ]
    }
   ],
   "source": [
    "complexity = np.array(complexityDeltaPosts)\n",
    "p = bebi103.viz.histogram(data=complexity, \n",
    "                          kind='step_filled', \n",
    "                          fill_alpha=0.5, bins=100, density=False,\n",
    "                         x_axis_label=\"Flesch Reading Ease of Delta-Receiving Comments\",\n",
    "                         y_axis_label='Frequency')\n",
    "bokeh.io.show(p)\n",
    "print(np.mean(complexity))"
   ]
  },
  {
   "cell_type": "code",
   "execution_count": 66,
   "metadata": {},
   "outputs": [
    {
     "data": {
      "text/html": [
       "\n",
       "\n",
       "\n",
       "\n",
       "\n",
       "\n",
       "  <div class=\"bk-root\" id=\"134561c4-59f0-4998-90b0-e4b3747d19b1\" data-root-id=\"1611\"></div>\n"
      ]
     },
     "metadata": {},
     "output_type": "display_data"
    },
    {
     "data": {
      "application/javascript": [
       "(function(root) {\n",
       "  function embed_document(root) {\n",
       "    \n",
       "  var docs_json = {\"6e9a43b6-a430-41cb-9624-8a402ef14384\":{\"roots\":{\"references\":[{\"attributes\":{\"below\":[{\"id\":\"1620\",\"type\":\"LinearAxis\"}],\"left\":[{\"id\":\"1625\",\"type\":\"LinearAxis\"}],\"plot_height\":300,\"plot_width\":450,\"renderers\":[{\"id\":\"1620\",\"type\":\"LinearAxis\"},{\"id\":\"1624\",\"type\":\"Grid\"},{\"id\":\"1625\",\"type\":\"LinearAxis\"},{\"id\":\"1629\",\"type\":\"Grid\"},{\"id\":\"1638\",\"type\":\"BoxAnnotation\"},{\"id\":\"1648\",\"type\":\"GlyphRenderer\"},{\"id\":\"1653\",\"type\":\"GlyphRenderer\"},{\"id\":\"1658\",\"type\":\"GlyphRenderer\"}],\"title\":null,\"toolbar\":{\"id\":\"1636\",\"type\":\"Toolbar\"},\"x_range\":{\"id\":\"1613\",\"type\":\"DataRange1d\"},\"x_scale\":{\"id\":\"1616\",\"type\":\"LinearScale\"},\"y_range\":{\"id\":\"1610\",\"type\":\"DataRange1d\"},\"y_scale\":{\"id\":\"1618\",\"type\":\"LinearScale\"}},\"id\":\"1611\",\"subtype\":\"Figure\",\"type\":\"Plot\"},{\"attributes\":{\"data_source\":{\"id\":\"1645\",\"type\":\"ColumnDataSource\"},\"glyph\":{\"id\":\"1646\",\"type\":\"Patch\"},\"hover_glyph\":null,\"muted_glyph\":null,\"nonselection_glyph\":{\"id\":\"1647\",\"type\":\"Patch\"},\"selection_glyph\":null,\"view\":{\"id\":\"1649\",\"type\":\"CDSView\"}},\"id\":\"1648\",\"type\":\"GlyphRenderer\"},{\"attributes\":{},\"id\":\"1618\",\"type\":\"LinearScale\"},{\"attributes\":{},\"id\":\"1711\",\"type\":\"BasicTickFormatter\"},{\"attributes\":{},\"id\":\"1621\",\"type\":\"BasicTicker\"},{\"attributes\":{\"active_drag\":\"auto\",\"active_inspect\":\"auto\",\"active_multi\":null,\"active_scroll\":\"auto\",\"active_tap\":\"auto\",\"tools\":[{\"id\":\"1630\",\"type\":\"PanTool\"},{\"id\":\"1631\",\"type\":\"WheelZoomTool\"},{\"id\":\"1632\",\"type\":\"BoxZoomTool\"},{\"id\":\"1633\",\"type\":\"SaveTool\"},{\"id\":\"1634\",\"type\":\"ResetTool\"},{\"id\":\"1635\",\"type\":\"HelpTool\"}]},\"id\":\"1636\",\"type\":\"Toolbar\"},{\"attributes\":{},\"id\":\"1715\",\"type\":\"Selection\"},{\"attributes\":{},\"id\":\"1717\",\"type\":\"Selection\"},{\"attributes\":{\"callback\":null,\"data\":{\"x\":{\"__ndarray__\":\"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\",\"dtype\":\"float64\",\"shape\":[204]},\"y\":{\"__ndarray__\":\"AAAAAAAAAAAAAAAAADBxQAAAAAAAMHFAAAAAAACMkEAAAAAAAIyQQAAAAAAARKxAAAAAAABErEAAAAAAAMC4QAAAAAAAwLhAAAAAAABGqkAAAAAAAEaqQAAAAAAAtJhAAAAAAAC0mEAAAAAAAJiMQAAAAAAAmIxAAAAAAACwhUAAAAAAALCFQAAAAAAAMHdAAAAAAAAwd0AAAAAAABBwQAAAAAAAEHBAAAAAAABgZkAAAAAAAGBmQAAAAAAA8HZAAAAAAADwdkAAAAAAACBtQAAAAAAAIG1AAAAAAABgZkAAAAAAAGBmQAAAAAAAgFhAAAAAAACAWEAAAAAAAEBaQAAAAAAAQFpAAAAAAACAUEAAAAAAAIBQQAAAAAAAgEdAAAAAAACAR0AAAAAAAABFQAAAAAAAAEVAAAAAAACASUAAAAAAAIBJQAAAAAAAgEFAAAAAAACAQUAAAAAAAAA8QAAAAAAAADxAAAAAAAAANEAAAAAAAAA0QAAAAAAAADVAAAAAAAAANUAAAAAAAAAkQAAAAAAAACRAAAAAAAAAN0AAAAAAAAA3QAAAAAAAAD1AAAAAAAAAPUAAAAAAAAAmQAAAAAAAACZAAAAAAAAAKkAAAAAAAAAqQAAAAAAAACpAAAAAAAAAKkAAAAAAAAAiQAAAAAAAACJAAAAAAAAAJkAAAAAAAAAmQAAAAAAAAAhAAAAAAAAACEAAAAAAAAAUQAAAAAAAABRAAAAAAAAAHEAAAAAAAAAcQAAAAAAAAChAAAAAAAAAKEAAAAAAAAAcQAAAAAAAABxAAAAAAAAAEEAAAAAAAAAQQAAAAAAAACBAAAAAAAAAIEAAAAAAAAAQQAAAAAAAABBAAAAAAAAAHEAAAAAAAAAcQAAAAAAAABRAAAAAAAAAFEAAAAAAAAAUQAAAAAAAABRAAAAAAAAAEEAAAAAAAAAQQAAAAAAAABBAAAAAAAAAEEAAAAAAAAAAQAAAAAAAAABAAAAAAAAAAEAAAAAAAAAAQAAAAAAAABBAAAAAAAAAEEAAAAAAAAAAAAAAAAAAAAAAAAAAAAAA8D8AAAAAAADwPwAAAAAAABBAAAAAAAAAEEAAAAAAAAAAQAAAAAAAAABAAAAAAAAA8D8AAAAAAADwPwAAAAAAABRAAAAAAAAAFEAAAAAAAAAAQAAAAAAAAABAAAAAAAAAAAAAAAAAAAAAAAAAAAAAAAAAAAAAAAAAAAAAAAAAAAAAAAAAAAAAAAAAAAAAAAAA8D8AAAAAAADwPwAAAAAAAAAAAAAAAAAAAAAAAAAAAADwPwAAAAAAAPA/AAAAAAAAAAAAAAAAAAAAAAAAAAAAAABAAAAAAAAAAEAAAAAAAAAAQAAAAAAAAABAAAAAAAAAAAAAAAAAAAAAAAAAAAAAAAAAAAAAAAAAAAAAAAAAAAAAQAAAAAAAAABAAAAAAAAAAAAAAAAAAAAAAAAAAAAAAAAAAAAAAAAAAAAAAAAAAAAAAAAAAAAAAAAAAAAAAAAAAAAAAAAAAAAAAAAAAAAAAAAAAAAAAAAAAAAAAAAAAAAIQAAAAAAAAAhAAAAAAAAAAAAAAAAAAAAAAAAAAAAAAAAAAAAAAAAAAAAAAAAAAAAAAAAAAAAAAAAAAAAAAAAAAAAAAAAAAAAAAAAAAAAAAPA/AAAAAAAA8D8AAAAAAAAAAAAAAAAAAAAAAAAAAAAA8D8AAAAAAADwPwAAAAAAAAAAAAAAAAAAAAAAAAAAAAAAAAAAAAAAAAAAAAAAAAAAAAAAAAAAAAAAAAAAAAAAAPA/AAAAAAAA8D8AAAAAAADwPwAAAAAAAPA/AAAAAAAAAAAAAAAAAAAAAAAAAAAAAAAAAAAAAAAAAAAAAAAAAAAAAAAAAAAAAAAAAAAAAAAAAAAAAAAAAAAAAAAAAAAAAAAAAAAAAAAAAAAAAAAAAAAAAAAAAAAAAAAAAAAAAAAAAAAAAAAAAAAAAAAAAAAAAAAAAAAAAAAAAAAAAAAAAAAAAAAAAAAAAAAAAAAAAAAAAAAAAAAAAAAAAAAAAAAAAAAAAAAAAAAAAAAAAAAAAAAAAAAAAAAAAAAAAAAAAAAAAAAAAAAAAAAAAAAAAAAAAAAAAAAAAAAAAAAAAAAAAADwPwAAAAAAAPA/AAAAAAAAAAAAAAAAAAAAAAAAAAAAAAAA\",\"dtype\":\"float64\",\"shape\":[204]}},\"selected\":{\"id\":\"1715\",\"type\":\"Selection\"},\"selection_policy\":{\"id\":\"1714\",\"type\":\"UnionRenderers\"}},\"id\":\"1645\",\"type\":\"ColumnDataSource\"},{\"attributes\":{\"data_source\":{\"id\":\"1655\",\"type\":\"ColumnDataSource\"},\"glyph\":{\"id\":\"1656\",\"type\":\"Line\"},\"hover_glyph\":null,\"muted_glyph\":null,\"nonselection_glyph\":{\"id\":\"1657\",\"type\":\"Line\"},\"selection_glyph\":null,\"view\":{\"id\":\"1659\",\"type\":\"CDSView\"}},\"id\":\"1658\",\"type\":\"GlyphRenderer\"},{\"attributes\":{\"source\":{\"id\":\"1655\",\"type\":\"ColumnDataSource\"}},\"id\":\"1659\",\"type\":\"CDSView\"},{\"attributes\":{},\"id\":\"1631\",\"type\":\"WheelZoomTool\"},{\"attributes\":{\"line_color\":\"#1f77b4\",\"x\":{\"field\":\"x\"},\"y\":{\"field\":\"y\"}},\"id\":\"1656\",\"type\":\"Line\"},{\"attributes\":{},\"id\":\"1626\",\"type\":\"BasicTicker\"},{\"attributes\":{\"bottom_units\":\"screen\",\"fill_alpha\":{\"value\":0.5},\"fill_color\":{\"value\":\"lightgrey\"},\"left_units\":\"screen\",\"level\":\"overlay\",\"line_alpha\":{\"value\":1.0},\"line_color\":{\"value\":\"black\"},\"line_dash\":[4,4],\"line_width\":{\"value\":2},\"plot\":null,\"render_mode\":\"css\",\"right_units\":\"screen\",\"top_units\":\"screen\"},\"id\":\"1638\",\"type\":\"BoxAnnotation\"},{\"attributes\":{},\"id\":\"1716\",\"type\":\"UnionRenderers\"},{\"attributes\":{\"fill_alpha\":0.5,\"fill_color\":\"#1f77b4\",\"line_alpha\":0,\"line_color\":\"#1f77b4\",\"line_width\":0,\"x\":{\"field\":\"x\"},\"y\":{\"field\":\"y\"}},\"id\":\"1646\",\"type\":\"Patch\"},{\"attributes\":{\"callback\":null,\"data\":{\"x\":{\"__ndarray__\":\"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\",\"dtype\":\"float64\",\"shape\":[202]},\"y\":{\"__ndarray__\":\"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\",\"dtype\":\"float64\",\"shape\":[202]}},\"selected\":{\"id\":\"1717\",\"type\":\"Selection\"},\"selection_policy\":{\"id\":\"1716\",\"type\":\"UnionRenderers\"}},\"id\":\"1650\",\"type\":\"ColumnDataSource\"},{\"attributes\":{\"axis_label\":\"Flesch Reading Ease of non-Delta-Receiving Comments\",\"formatter\":{\"id\":\"1711\",\"type\":\"BasicTickFormatter\"},\"plot\":{\"id\":\"1611\",\"subtype\":\"Figure\",\"type\":\"Plot\"},\"ticker\":{\"id\":\"1621\",\"type\":\"BasicTicker\"}},\"id\":\"1620\",\"type\":\"LinearAxis\"},{\"attributes\":{},\"id\":\"1709\",\"type\":\"BasicTickFormatter\"},{\"attributes\":{\"line_color\":\"#1f77b4\",\"x\":{\"field\":\"x\"},\"y\":{\"field\":\"y\"}},\"id\":\"1651\",\"type\":\"Line\"},{\"attributes\":{},\"id\":\"1718\",\"type\":\"UnionRenderers\"},{\"attributes\":{\"line_alpha\":0.1,\"line_color\":\"#1f77b4\",\"x\":{\"field\":\"x\"},\"y\":{\"field\":\"y\"}},\"id\":\"1657\",\"type\":\"Line\"},{\"attributes\":{\"source\":{\"id\":\"1645\",\"type\":\"ColumnDataSource\"}},\"id\":\"1649\",\"type\":\"CDSView\"},{\"attributes\":{\"plot\":{\"id\":\"1611\",\"subtype\":\"Figure\",\"type\":\"Plot\"},\"ticker\":{\"id\":\"1621\",\"type\":\"BasicTicker\"}},\"id\":\"1624\",\"type\":\"Grid\"},{\"attributes\":{},\"id\":\"1616\",\"type\":\"LinearScale\"},{\"attributes\":{\"axis_label\":\"Frequency\",\"formatter\":{\"id\":\"1709\",\"type\":\"BasicTickFormatter\"},\"plot\":{\"id\":\"1611\",\"subtype\":\"Figure\",\"type\":\"Plot\"},\"ticker\":{\"id\":\"1626\",\"type\":\"BasicTicker\"}},\"id\":\"1625\",\"type\":\"LinearAxis\"},{\"attributes\":{},\"id\":\"1714\",\"type\":\"UnionRenderers\"},{\"attributes\":{\"overlay\":{\"id\":\"1638\",\"type\":\"BoxAnnotation\"}},\"id\":\"1632\",\"type\":\"BoxZoomTool\"},{\"attributes\":{\"fill_alpha\":0.1,\"fill_color\":\"#1f77b4\",\"line_alpha\":0.1,\"line_color\":\"#1f77b4\",\"line_width\":0,\"x\":{\"field\":\"x\"},\"y\":{\"field\":\"y\"}},\"id\":\"1647\",\"type\":\"Patch\"},{\"attributes\":{\"source\":{\"id\":\"1650\",\"type\":\"ColumnDataSource\"}},\"id\":\"1654\",\"type\":\"CDSView\"},{\"attributes\":{\"callback\":null,\"data\":{\"x\":[-3.5,369.1],\"y\":[0,0]},\"selected\":{\"id\":\"1719\",\"type\":\"Selection\"},\"selection_policy\":{\"id\":\"1718\",\"type\":\"UnionRenderers\"}},\"id\":\"1655\",\"type\":\"ColumnDataSource\"},{\"attributes\":{},\"id\":\"1719\",\"type\":\"Selection\"},{\"attributes\":{},\"id\":\"1633\",\"type\":\"SaveTool\"},{\"attributes\":{\"data_source\":{\"id\":\"1650\",\"type\":\"ColumnDataSource\"},\"glyph\":{\"id\":\"1651\",\"type\":\"Line\"},\"hover_glyph\":null,\"muted_glyph\":null,\"nonselection_glyph\":{\"id\":\"1652\",\"type\":\"Line\"},\"selection_glyph\":null,\"view\":{\"id\":\"1654\",\"type\":\"CDSView\"}},\"id\":\"1653\",\"type\":\"GlyphRenderer\"},{\"attributes\":{},\"id\":\"1634\",\"type\":\"ResetTool\"},{\"attributes\":{\"callback\":null,\"start\":0},\"id\":\"1610\",\"type\":\"DataRange1d\"},{\"attributes\":{\"callback\":null},\"id\":\"1613\",\"type\":\"DataRange1d\"},{\"attributes\":{\"line_alpha\":0.1,\"line_color\":\"#1f77b4\",\"x\":{\"field\":\"x\"},\"y\":{\"field\":\"y\"}},\"id\":\"1652\",\"type\":\"Line\"},{\"attributes\":{},\"id\":\"1630\",\"type\":\"PanTool\"},{\"attributes\":{\"dimension\":1,\"plot\":{\"id\":\"1611\",\"subtype\":\"Figure\",\"type\":\"Plot\"},\"ticker\":{\"id\":\"1626\",\"type\":\"BasicTicker\"}},\"id\":\"1629\",\"type\":\"Grid\"},{\"attributes\":{},\"id\":\"1635\",\"type\":\"HelpTool\"}],\"root_ids\":[\"1611\"]},\"title\":\"Bokeh Application\",\"version\":\"1.0.4\"}};\n",
       "  var render_items = [{\"docid\":\"6e9a43b6-a430-41cb-9624-8a402ef14384\",\"roots\":{\"1611\":\"134561c4-59f0-4998-90b0-e4b3747d19b1\"}}];\n",
       "  root.Bokeh.embed.embed_items_notebook(docs_json, render_items);\n",
       "\n",
       "  }\n",
       "  if (root.Bokeh !== undefined) {\n",
       "    embed_document(root);\n",
       "  } else {\n",
       "    var attempts = 0;\n",
       "    var timer = setInterval(function(root) {\n",
       "      if (root.Bokeh !== undefined) {\n",
       "        embed_document(root);\n",
       "        clearInterval(timer);\n",
       "      }\n",
       "      attempts++;\n",
       "      if (attempts > 100) {\n",
       "        console.log(\"Bokeh: ERROR: Unable to run BokehJS code because BokehJS library is missing\");\n",
       "        clearInterval(timer);\n",
       "      }\n",
       "    }, 10, root)\n",
       "  }\n",
       "})(window);"
      ],
      "application/vnd.bokehjs_exec.v0+json": ""
     },
     "metadata": {
      "application/vnd.bokehjs_exec.v0+json": {
       "id": "1611"
      }
     },
     "output_type": "display_data"
    },
    {
     "name": "stdout",
     "output_type": "stream",
     "text": [
      "15.336638080602786\n"
     ]
    }
   ],
   "source": [
    "complexity = np.array(complexityOtherPosts)\n",
    "p = bebi103.viz.histogram(data=complexity, \n",
    "                          kind='step_filled', \n",
    "                          fill_alpha=0.5, bins=100, density=False,\n",
    "                         x_axis_label=\"Flesch Reading Ease of non-Delta-Receiving Comments\",\n",
    "                         y_axis_label='Frequency',\n",
    "                          )\n",
    "bokeh.io.show(p)\n",
    "print(np.mean(complexity))"
   ]
  },
  {
   "cell_type": "markdown",
   "metadata": {},
   "source": [
    "## Length of sentences and Comments\n",
    "\n",
    "\n",
    "\n",
    "### Avg Sentence Length"
   ]
  },
  {
   "cell_type": "code",
   "execution_count": 67,
   "metadata": {},
   "outputs": [
    {
     "data": {
      "text/html": [
       "\n",
       "\n",
       "\n",
       "\n",
       "\n",
       "\n",
       "  <div class=\"bk-root\" id=\"131b3d5d-ef14-4d56-ae6c-56ac9ca50fd1\" data-root-id=\"1793\"></div>\n"
      ]
     },
     "metadata": {},
     "output_type": "display_data"
    },
    {
     "data": {
      "application/javascript": [
       "(function(root) {\n",
       "  function embed_document(root) {\n",
       "    \n",
       "  var docs_json = {\"fc140111-2464-47f4-b596-191b90197c4b\":{\"roots\":{\"references\":[{\"attributes\":{\"below\":[{\"id\":\"1802\",\"type\":\"LinearAxis\"}],\"left\":[{\"id\":\"1807\",\"type\":\"LinearAxis\"}],\"plot_height\":300,\"plot_width\":450,\"renderers\":[{\"id\":\"1802\",\"type\":\"LinearAxis\"},{\"id\":\"1806\",\"type\":\"Grid\"},{\"id\":\"1807\",\"type\":\"LinearAxis\"},{\"id\":\"1811\",\"type\":\"Grid\"},{\"id\":\"1820\",\"type\":\"BoxAnnotation\"},{\"id\":\"1830\",\"type\":\"GlyphRenderer\"},{\"id\":\"1835\",\"type\":\"GlyphRenderer\"},{\"id\":\"1840\",\"type\":\"GlyphRenderer\"}],\"title\":null,\"toolbar\":{\"id\":\"1818\",\"type\":\"Toolbar\"},\"x_range\":{\"id\":\"1795\",\"type\":\"DataRange1d\"},\"x_scale\":{\"id\":\"1798\",\"type\":\"LinearScale\"},\"y_range\":{\"id\":\"1792\",\"type\":\"DataRange1d\"},\"y_scale\":{\"id\":\"1800\",\"type\":\"LinearScale\"}},\"id\":\"1793\",\"subtype\":\"Figure\",\"type\":\"Plot\"},{\"attributes\":{},\"id\":\"1911\",\"type\":\"Selection\"},{\"attributes\":{\"fill_alpha\":0.5,\"fill_color\":\"#1f77b4\",\"line_alpha\":0,\"line_color\":\"#1f77b4\",\"line_width\":0,\"x\":{\"field\":\"x\"},\"y\":{\"field\":\"y\"}},\"id\":\"1828\",\"type\":\"Patch\"},{\"attributes\":{},\"id\":\"1812\",\"type\":\"PanTool\"},{\"attributes\":{\"line_alpha\":0.1,\"line_color\":\"#1f77b4\",\"x\":{\"field\":\"x\"},\"y\":{\"field\":\"y\"}},\"id\":\"1839\",\"type\":\"Line\"},{\"attributes\":{\"source\":{\"id\":\"1832\",\"type\":\"ColumnDataSource\"}},\"id\":\"1836\",\"type\":\"CDSView\"},{\"attributes\":{},\"id\":\"1913\",\"type\":\"Selection\"},{\"attributes\":{\"axis_label\":\"Average Sentence Length of Delta-Receiving Comments\",\"formatter\":{\"id\":\"1905\",\"type\":\"BasicTickFormatter\"},\"plot\":{\"id\":\"1793\",\"subtype\":\"Figure\",\"type\":\"Plot\"},\"ticker\":{\"id\":\"1803\",\"type\":\"BasicTicker\"}},\"id\":\"1802\",\"type\":\"LinearAxis\"},{\"attributes\":{\"active_drag\":\"auto\",\"active_inspect\":\"auto\",\"active_multi\":null,\"active_scroll\":\"auto\",\"active_tap\":\"auto\",\"tools\":[{\"id\":\"1812\",\"type\":\"PanTool\"},{\"id\":\"1813\",\"type\":\"WheelZoomTool\"},{\"id\":\"1814\",\"type\":\"BoxZoomTool\"},{\"id\":\"1815\",\"type\":\"SaveTool\"},{\"id\":\"1816\",\"type\":\"ResetTool\"},{\"id\":\"1817\",\"type\":\"HelpTool\"}]},\"id\":\"1818\",\"type\":\"Toolbar\"},{\"attributes\":{\"callback\":null,\"data\":{\"x\":{\"__ndarray__\":\"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\",\"dtype\":\"float64\",\"shape\":[202]},\"y\":{\"__ndarray__\":\"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\",\"dtype\":\"float64\",\"shape\":[202]}},\"selected\":{\"id\":\"1911\",\"type\":\"Selection\"},\"selection_policy\":{\"id\":\"1910\",\"type\":\"UnionRenderers\"}},\"id\":\"1832\",\"type\":\"ColumnDataSource\"},{\"attributes\":{\"line_color\":\"#1f77b4\",\"x\":{\"field\":\"x\"},\"y\":{\"field\":\"y\"}},\"id\":\"1833\",\"type\":\"Line\"},{\"attributes\":{},\"id\":\"1903\",\"type\":\"BasicTickFormatter\"},{\"attributes\":{},\"id\":\"1798\",\"type\":\"LinearScale\"},{\"attributes\":{\"axis_label\":\"Frequency\",\"formatter\":{\"id\":\"1903\",\"type\":\"BasicTickFormatter\"},\"plot\":{\"id\":\"1793\",\"subtype\":\"Figure\",\"type\":\"Plot\"},\"ticker\":{\"id\":\"1808\",\"type\":\"BasicTicker\"}},\"id\":\"1807\",\"type\":\"LinearAxis\"},{\"attributes\":{\"callback\":null,\"data\":{\"x\":{\"__ndarray__\":\"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\",\"dtype\":\"float64\",\"shape\":[204]},\"y\":{\"__ndarray__\":\"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\",\"dtype\":\"float64\",\"shape\":[204]}},\"selected\":{\"id\":\"1909\",\"type\":\"Selection\"},\"selection_policy\":{\"id\":\"1908\",\"type\":\"UnionRenderers\"}},\"id\":\"1827\",\"type\":\"ColumnDataSource\"},{\"attributes\":{},\"id\":\"1908\",\"type\":\"UnionRenderers\"},{\"attributes\":{},\"id\":\"1816\",\"type\":\"ResetTool\"},{\"attributes\":{\"line_color\":\"#1f77b4\",\"x\":{\"field\":\"x\"},\"y\":{\"field\":\"y\"}},\"id\":\"1838\",\"type\":\"Line\"},{\"attributes\":{},\"id\":\"1905\",\"type\":\"BasicTickFormatter\"},{\"attributes\":{},\"id\":\"1808\",\"type\":\"BasicTicker\"},{\"attributes\":{},\"id\":\"1910\",\"type\":\"UnionRenderers\"},{\"attributes\":{},\"id\":\"1813\",\"type\":\"WheelZoomTool\"},{\"attributes\":{},\"id\":\"1815\",\"type\":\"SaveTool\"},{\"attributes\":{\"dimension\":1,\"plot\":{\"id\":\"1793\",\"subtype\":\"Figure\",\"type\":\"Plot\"},\"ticker\":{\"id\":\"1808\",\"type\":\"BasicTicker\"}},\"id\":\"1811\",\"type\":\"Grid\"},{\"attributes\":{},\"id\":\"1817\",\"type\":\"HelpTool\"},{\"attributes\":{\"callback\":null,\"data\":{\"x\":[1.0,149.5],\"y\":[0,0]},\"selected\":{\"id\":\"1913\",\"type\":\"Selection\"},\"selection_policy\":{\"id\":\"1912\",\"type\":\"UnionRenderers\"}},\"id\":\"1837\",\"type\":\"ColumnDataSource\"},{\"attributes\":{},\"id\":\"1803\",\"type\":\"BasicTicker\"},{\"attributes\":{\"data_source\":{\"id\":\"1837\",\"type\":\"ColumnDataSource\"},\"glyph\":{\"id\":\"1838\",\"type\":\"Line\"},\"hover_glyph\":null,\"muted_glyph\":null,\"nonselection_glyph\":{\"id\":\"1839\",\"type\":\"Line\"},\"selection_glyph\":null,\"view\":{\"id\":\"1841\",\"type\":\"CDSView\"}},\"id\":\"1840\",\"type\":\"GlyphRenderer\"},{\"attributes\":{},\"id\":\"1909\",\"type\":\"Selection\"},{\"attributes\":{},\"id\":\"1912\",\"type\":\"UnionRenderers\"},{\"attributes\":{\"callback\":null,\"start\":0},\"id\":\"1792\",\"type\":\"DataRange1d\"},{\"attributes\":{\"overlay\":{\"id\":\"1820\",\"type\":\"BoxAnnotation\"}},\"id\":\"1814\",\"type\":\"BoxZoomTool\"},{\"attributes\":{\"data_source\":{\"id\":\"1832\",\"type\":\"ColumnDataSource\"},\"glyph\":{\"id\":\"1833\",\"type\":\"Line\"},\"hover_glyph\":null,\"muted_glyph\":null,\"nonselection_glyph\":{\"id\":\"1834\",\"type\":\"Line\"},\"selection_glyph\":null,\"view\":{\"id\":\"1836\",\"type\":\"CDSView\"}},\"id\":\"1835\",\"type\":\"GlyphRenderer\"},{\"attributes\":{\"source\":{\"id\":\"1837\",\"type\":\"ColumnDataSource\"}},\"id\":\"1841\",\"type\":\"CDSView\"},{\"attributes\":{\"line_alpha\":0.1,\"line_color\":\"#1f77b4\",\"x\":{\"field\":\"x\"},\"y\":{\"field\":\"y\"}},\"id\":\"1834\",\"type\":\"Line\"},{\"attributes\":{\"callback\":null},\"id\":\"1795\",\"type\":\"DataRange1d\"},{\"attributes\":{\"bottom_units\":\"screen\",\"fill_alpha\":{\"value\":0.5},\"fill_color\":{\"value\":\"lightgrey\"},\"left_units\":\"screen\",\"level\":\"overlay\",\"line_alpha\":{\"value\":1.0},\"line_color\":{\"value\":\"black\"},\"line_dash\":[4,4],\"line_width\":{\"value\":2},\"plot\":null,\"render_mode\":\"css\",\"right_units\":\"screen\",\"top_units\":\"screen\"},\"id\":\"1820\",\"type\":\"BoxAnnotation\"},{\"attributes\":{\"source\":{\"id\":\"1827\",\"type\":\"ColumnDataSource\"}},\"id\":\"1831\",\"type\":\"CDSView\"},{\"attributes\":{\"data_source\":{\"id\":\"1827\",\"type\":\"ColumnDataSource\"},\"glyph\":{\"id\":\"1828\",\"type\":\"Patch\"},\"hover_glyph\":null,\"muted_glyph\":null,\"nonselection_glyph\":{\"id\":\"1829\",\"type\":\"Patch\"},\"selection_glyph\":null,\"view\":{\"id\":\"1831\",\"type\":\"CDSView\"}},\"id\":\"1830\",\"type\":\"GlyphRenderer\"},{\"attributes\":{},\"id\":\"1800\",\"type\":\"LinearScale\"},{\"attributes\":{\"fill_alpha\":0.1,\"fill_color\":\"#1f77b4\",\"line_alpha\":0.1,\"line_color\":\"#1f77b4\",\"line_width\":0,\"x\":{\"field\":\"x\"},\"y\":{\"field\":\"y\"}},\"id\":\"1829\",\"type\":\"Patch\"},{\"attributes\":{\"plot\":{\"id\":\"1793\",\"subtype\":\"Figure\",\"type\":\"Plot\"},\"ticker\":{\"id\":\"1803\",\"type\":\"BasicTicker\"}},\"id\":\"1806\",\"type\":\"Grid\"}],\"root_ids\":[\"1793\"]},\"title\":\"Bokeh Application\",\"version\":\"1.0.4\"}};\n",
       "  var render_items = [{\"docid\":\"fc140111-2464-47f4-b596-191b90197c4b\",\"roots\":{\"1793\":\"131b3d5d-ef14-4d56-ae6c-56ac9ca50fd1\"}}];\n",
       "  root.Bokeh.embed.embed_items_notebook(docs_json, render_items);\n",
       "\n",
       "  }\n",
       "  if (root.Bokeh !== undefined) {\n",
       "    embed_document(root);\n",
       "  } else {\n",
       "    var attempts = 0;\n",
       "    var timer = setInterval(function(root) {\n",
       "      if (root.Bokeh !== undefined) {\n",
       "        embed_document(root);\n",
       "        clearInterval(timer);\n",
       "      }\n",
       "      attempts++;\n",
       "      if (attempts > 100) {\n",
       "        console.log(\"Bokeh: ERROR: Unable to run BokehJS code because BokehJS library is missing\");\n",
       "        clearInterval(timer);\n",
       "      }\n",
       "    }, 10, root)\n",
       "  }\n",
       "})(window);"
      ],
      "application/vnd.bokehjs_exec.v0+json": ""
     },
     "metadata": {
      "application/vnd.bokehjs_exec.v0+json": {
       "id": "1793"
      }
     },
     "output_type": "display_data"
    },
    {
     "name": "stdout",
     "output_type": "stream",
     "text": [
      "18.180209898344938\n",
      "8.931729182791221\n"
     ]
    }
   ],
   "source": [
    "length = np.array(lengthDeltaPosts)\n",
    "p = bebi103.viz.histogram(data=length[:,0], \n",
    "                          kind='step_filled', \n",
    "                          fill_alpha=0.5, bins=100, density=False,\n",
    "                         x_axis_label=\"Average Sentence Length of Delta-Receiving Comments\",\n",
    "                         y_axis_label='Frequency',\n",
    "                          )\n",
    "bokeh.io.show(p)\n",
    "print(np.mean(length[:,0]))\n",
    "print(np.std(length[:,0]))"
   ]
  },
  {
   "cell_type": "code",
   "execution_count": 68,
   "metadata": {},
   "outputs": [
    {
     "data": {
      "text/html": [
       "\n",
       "\n",
       "\n",
       "\n",
       "\n",
       "\n",
       "  <div class=\"bk-root\" id=\"5375dc70-455f-4921-ae54-ccd22d0e73d9\" data-root-id=\"1987\"></div>\n"
      ]
     },
     "metadata": {},
     "output_type": "display_data"
    },
    {
     "data": {
      "application/javascript": [
       "(function(root) {\n",
       "  function embed_document(root) {\n",
       "    \n",
       "  var docs_json = {\"6dd2058a-b0bf-41fe-8609-7f70f57e23b5\":{\"roots\":{\"references\":[{\"attributes\":{\"below\":[{\"id\":\"1996\",\"type\":\"LinearAxis\"}],\"left\":[{\"id\":\"2001\",\"type\":\"LinearAxis\"}],\"plot_height\":300,\"plot_width\":450,\"renderers\":[{\"id\":\"1996\",\"type\":\"LinearAxis\"},{\"id\":\"2000\",\"type\":\"Grid\"},{\"id\":\"2001\",\"type\":\"LinearAxis\"},{\"id\":\"2005\",\"type\":\"Grid\"},{\"id\":\"2014\",\"type\":\"BoxAnnotation\"},{\"id\":\"2024\",\"type\":\"GlyphRenderer\"},{\"id\":\"2029\",\"type\":\"GlyphRenderer\"},{\"id\":\"2034\",\"type\":\"GlyphRenderer\"}],\"title\":null,\"toolbar\":{\"id\":\"2012\",\"type\":\"Toolbar\"},\"x_range\":{\"id\":\"1989\",\"type\":\"DataRange1d\"},\"x_scale\":{\"id\":\"1992\",\"type\":\"LinearScale\"},\"y_range\":{\"id\":\"1986\",\"type\":\"DataRange1d\"},\"y_scale\":{\"id\":\"1994\",\"type\":\"LinearScale\"}},\"id\":\"1987\",\"subtype\":\"Figure\",\"type\":\"Plot\"},{\"attributes\":{},\"id\":\"2009\",\"type\":\"SaveTool\"},{\"attributes\":{\"line_color\":\"#1f77b4\",\"x\":{\"field\":\"x\"},\"y\":{\"field\":\"y\"}},\"id\":\"2027\",\"type\":\"Line\"},{\"attributes\":{\"dimension\":1,\"plot\":{\"id\":\"1987\",\"subtype\":\"Figure\",\"type\":\"Plot\"},\"ticker\":{\"id\":\"2002\",\"type\":\"BasicTicker\"}},\"id\":\"2005\",\"type\":\"Grid\"},{\"attributes\":{\"axis_label\":\"Frequency\",\"formatter\":{\"id\":\"2109\",\"type\":\"BasicTickFormatter\"},\"plot\":{\"id\":\"1987\",\"subtype\":\"Figure\",\"type\":\"Plot\"},\"ticker\":{\"id\":\"2002\",\"type\":\"BasicTicker\"}},\"id\":\"2001\",\"type\":\"LinearAxis\"},{\"attributes\":{},\"id\":\"1997\",\"type\":\"BasicTicker\"},{\"attributes\":{\"overlay\":{\"id\":\"2014\",\"type\":\"BoxAnnotation\"}},\"id\":\"2008\",\"type\":\"BoxZoomTool\"},{\"attributes\":{\"plot\":{\"id\":\"1987\",\"subtype\":\"Figure\",\"type\":\"Plot\"},\"ticker\":{\"id\":\"1997\",\"type\":\"BasicTicker\"}},\"id\":\"2000\",\"type\":\"Grid\"},{\"attributes\":{\"fill_alpha\":0.5,\"fill_color\":\"#1f77b4\",\"line_alpha\":0,\"line_color\":\"#1f77b4\",\"line_width\":0,\"x\":{\"field\":\"x\"},\"y\":{\"field\":\"y\"}},\"id\":\"2022\",\"type\":\"Patch\"},{\"attributes\":{\"source\":{\"id\":\"2031\",\"type\":\"ColumnDataSource\"}},\"id\":\"2035\",\"type\":\"CDSView\"},{\"attributes\":{\"line_color\":\"#1f77b4\",\"x\":{\"field\":\"x\"},\"y\":{\"field\":\"y\"}},\"id\":\"2032\",\"type\":\"Line\"},{\"attributes\":{},\"id\":\"2114\",\"type\":\"UnionRenderers\"},{\"attributes\":{},\"id\":\"2115\",\"type\":\"Selection\"},{\"attributes\":{\"fill_alpha\":0.1,\"fill_color\":\"#1f77b4\",\"line_alpha\":0.1,\"line_color\":\"#1f77b4\",\"line_width\":0,\"x\":{\"field\":\"x\"},\"y\":{\"field\":\"y\"}},\"id\":\"2023\",\"type\":\"Patch\"},{\"attributes\":{},\"id\":\"1994\",\"type\":\"LinearScale\"},{\"attributes\":{},\"id\":\"2111\",\"type\":\"BasicTickFormatter\"},{\"attributes\":{\"axis_label\":\"Average Sentence Length of non-Delta-Receiving Comments\",\"formatter\":{\"id\":\"2111\",\"type\":\"BasicTickFormatter\"},\"plot\":{\"id\":\"1987\",\"subtype\":\"Figure\",\"type\":\"Plot\"},\"ticker\":{\"id\":\"1997\",\"type\":\"BasicTicker\"}},\"id\":\"1996\",\"type\":\"LinearAxis\"},{\"attributes\":{\"bottom_units\":\"screen\",\"fill_alpha\":{\"value\":0.5},\"fill_color\":{\"value\":\"lightgrey\"},\"left_units\":\"screen\",\"level\":\"overlay\",\"line_alpha\":{\"value\":1.0},\"line_color\":{\"value\":\"black\"},\"line_dash\":[4,4],\"line_width\":{\"value\":2},\"plot\":null,\"render_mode\":\"css\",\"right_units\":\"screen\",\"top_units\":\"screen\"},\"id\":\"2014\",\"type\":\"BoxAnnotation\"},{\"attributes\":{},\"id\":\"2118\",\"type\":\"UnionRenderers\"},{\"attributes\":{\"data_source\":{\"id\":\"2021\",\"type\":\"ColumnDataSource\"},\"glyph\":{\"id\":\"2022\",\"type\":\"Patch\"},\"hover_glyph\":null,\"muted_glyph\":null,\"nonselection_glyph\":{\"id\":\"2023\",\"type\":\"Patch\"},\"selection_glyph\":null,\"view\":{\"id\":\"2025\",\"type\":\"CDSView\"}},\"id\":\"2024\",\"type\":\"GlyphRenderer\"},{\"attributes\":{\"callback\":null,\"data\":{\"x\":{\"__ndarray__\":\"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\",\"dtype\":\"float64\",\"shape\":[202]},\"y\":{\"__ndarray__\":\"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\",\"dtype\":\"float64\",\"shape\":[202]}},\"selected\":{\"id\":\"2117\",\"type\":\"Selection\"},\"selection_policy\":{\"id\":\"2116\",\"type\":\"UnionRenderers\"}},\"id\":\"2026\",\"type\":\"ColumnDataSource\"},{\"attributes\":{},\"id\":\"2011\",\"type\":\"HelpTool\"},{\"attributes\":{\"callback\":null},\"id\":\"1989\",\"type\":\"DataRange1d\"},{\"attributes\":{\"source\":{\"id\":\"2021\",\"type\":\"ColumnDataSource\"}},\"id\":\"2025\",\"type\":\"CDSView\"},{\"attributes\":{\"data_source\":{\"id\":\"2031\",\"type\":\"ColumnDataSource\"},\"glyph\":{\"id\":\"2032\",\"type\":\"Line\"},\"hover_glyph\":null,\"muted_glyph\":null,\"nonselection_glyph\":{\"id\":\"2033\",\"type\":\"Line\"},\"selection_glyph\":null,\"view\":{\"id\":\"2035\",\"type\":\"CDSView\"}},\"id\":\"2034\",\"type\":\"GlyphRenderer\"},{\"attributes\":{},\"id\":\"2010\",\"type\":\"ResetTool\"},{\"attributes\":{\"source\":{\"id\":\"2026\",\"type\":\"ColumnDataSource\"}},\"id\":\"2030\",\"type\":\"CDSView\"},{\"attributes\":{},\"id\":\"2117\",\"type\":\"Selection\"},{\"attributes\":{\"data_source\":{\"id\":\"2026\",\"type\":\"ColumnDataSource\"},\"glyph\":{\"id\":\"2027\",\"type\":\"Line\"},\"hover_glyph\":null,\"muted_glyph\":null,\"nonselection_glyph\":{\"id\":\"2028\",\"type\":\"Line\"},\"selection_glyph\":null,\"view\":{\"id\":\"2030\",\"type\":\"CDSView\"}},\"id\":\"2029\",\"type\":\"GlyphRenderer\"},{\"attributes\":{},\"id\":\"2119\",\"type\":\"Selection\"},{\"attributes\":{},\"id\":\"2006\",\"type\":\"PanTool\"},{\"attributes\":{\"callback\":null,\"data\":{\"x\":{\"__ndarray__\":\"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\",\"dtype\":\"float64\",\"shape\":[204]},\"y\":{\"__ndarray__\":\"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\",\"dtype\":\"float64\",\"shape\":[204]}},\"selected\":{\"id\":\"2115\",\"type\":\"Selection\"},\"selection_policy\":{\"id\":\"2114\",\"type\":\"UnionRenderers\"}},\"id\":\"2021\",\"type\":\"ColumnDataSource\"},{\"attributes\":{\"active_drag\":\"auto\",\"active_inspect\":\"auto\",\"active_multi\":null,\"active_scroll\":\"auto\",\"active_tap\":\"auto\",\"tools\":[{\"id\":\"2006\",\"type\":\"PanTool\"},{\"id\":\"2007\",\"type\":\"WheelZoomTool\"},{\"id\":\"2008\",\"type\":\"BoxZoomTool\"},{\"id\":\"2009\",\"type\":\"SaveTool\"},{\"id\":\"2010\",\"type\":\"ResetTool\"},{\"id\":\"2011\",\"type\":\"HelpTool\"}]},\"id\":\"2012\",\"type\":\"Toolbar\"},{\"attributes\":{\"line_alpha\":0.1,\"line_color\":\"#1f77b4\",\"x\":{\"field\":\"x\"},\"y\":{\"field\":\"y\"}},\"id\":\"2033\",\"type\":\"Line\"},{\"attributes\":{},\"id\":\"2007\",\"type\":\"WheelZoomTool\"},{\"attributes\":{\"line_alpha\":0.1,\"line_color\":\"#1f77b4\",\"x\":{\"field\":\"x\"},\"y\":{\"field\":\"y\"}},\"id\":\"2028\",\"type\":\"Line\"},{\"attributes\":{},\"id\":\"2116\",\"type\":\"UnionRenderers\"},{\"attributes\":{},\"id\":\"2002\",\"type\":\"BasicTicker\"},{\"attributes\":{\"callback\":null,\"data\":{\"x\":[1.0,165.0],\"y\":[0,0]},\"selected\":{\"id\":\"2119\",\"type\":\"Selection\"},\"selection_policy\":{\"id\":\"2118\",\"type\":\"UnionRenderers\"}},\"id\":\"2031\",\"type\":\"ColumnDataSource\"},{\"attributes\":{\"callback\":null,\"start\":0},\"id\":\"1986\",\"type\":\"DataRange1d\"},{\"attributes\":{},\"id\":\"2109\",\"type\":\"BasicTickFormatter\"},{\"attributes\":{},\"id\":\"1992\",\"type\":\"LinearScale\"}],\"root_ids\":[\"1987\"]},\"title\":\"Bokeh Application\",\"version\":\"1.0.4\"}};\n",
       "  var render_items = [{\"docid\":\"6dd2058a-b0bf-41fe-8609-7f70f57e23b5\",\"roots\":{\"1987\":\"5375dc70-455f-4921-ae54-ccd22d0e73d9\"}}];\n",
       "  root.Bokeh.embed.embed_items_notebook(docs_json, render_items);\n",
       "\n",
       "  }\n",
       "  if (root.Bokeh !== undefined) {\n",
       "    embed_document(root);\n",
       "  } else {\n",
       "    var attempts = 0;\n",
       "    var timer = setInterval(function(root) {\n",
       "      if (root.Bokeh !== undefined) {\n",
       "        embed_document(root);\n",
       "        clearInterval(timer);\n",
       "      }\n",
       "      attempts++;\n",
       "      if (attempts > 100) {\n",
       "        console.log(\"Bokeh: ERROR: Unable to run BokehJS code because BokehJS library is missing\");\n",
       "        clearInterval(timer);\n",
       "      }\n",
       "    }, 10, root)\n",
       "  }\n",
       "})(window);"
      ],
      "application/vnd.bokehjs_exec.v0+json": ""
     },
     "metadata": {
      "application/vnd.bokehjs_exec.v0+json": {
       "id": "1987"
      }
     },
     "output_type": "display_data"
    },
    {
     "name": "stdout",
     "output_type": "stream",
     "text": [
      "15.52990713389112\n",
      "9.138519720748132\n"
     ]
    }
   ],
   "source": [
    "lengthOtherPosts = np.array(lengthOtherPosts)\n",
    "p = bebi103.viz.histogram(data=lengthOtherPosts[:,0], \n",
    "                          kind='step_filled', \n",
    "                          fill_alpha=0.5, bins=100, density=False,\n",
    "                         x_axis_label=\"Average Sentence Length of non-Delta-Receiving Comments\",\n",
    "                         y_axis_label='Frequency',\n",
    "                          )\n",
    "bokeh.io.show(p)\n",
    "print(np.mean(lengthOtherPosts[:,0]))\n",
    "print(np.std(lengthOtherPosts[:,0]))"
   ]
  },
  {
   "cell_type": "markdown",
   "metadata": {},
   "source": [
    "### Comment Length"
   ]
  },
  {
   "cell_type": "code",
   "execution_count": 69,
   "metadata": {},
   "outputs": [
    {
     "data": {
      "text/html": [
       "\n",
       "\n",
       "\n",
       "\n",
       "\n",
       "\n",
       "  <div class=\"bk-root\" id=\"d2453628-c846-4f8d-9387-62cbed0fd2f2\" data-root-id=\"2193\"></div>\n"
      ]
     },
     "metadata": {},
     "output_type": "display_data"
    },
    {
     "data": {
      "application/javascript": [
       "(function(root) {\n",
       "  function embed_document(root) {\n",
       "    \n",
       "  var docs_json = {\"980101b7-bcca-4bcb-aa56-33ab6931c6c0\":{\"roots\":{\"references\":[{\"attributes\":{\"below\":[{\"id\":\"2202\",\"type\":\"LinearAxis\"}],\"left\":[{\"id\":\"2207\",\"type\":\"LinearAxis\"}],\"plot_height\":300,\"plot_width\":450,\"renderers\":[{\"id\":\"2202\",\"type\":\"LinearAxis\"},{\"id\":\"2206\",\"type\":\"Grid\"},{\"id\":\"2207\",\"type\":\"LinearAxis\"},{\"id\":\"2211\",\"type\":\"Grid\"},{\"id\":\"2220\",\"type\":\"BoxAnnotation\"},{\"id\":\"2230\",\"type\":\"GlyphRenderer\"},{\"id\":\"2235\",\"type\":\"GlyphRenderer\"},{\"id\":\"2240\",\"type\":\"GlyphRenderer\"}],\"title\":null,\"toolbar\":{\"id\":\"2218\",\"type\":\"Toolbar\"},\"x_range\":{\"id\":\"2195\",\"type\":\"DataRange1d\"},\"x_scale\":{\"id\":\"2198\",\"type\":\"LinearScale\"},\"y_range\":{\"id\":\"2192\",\"type\":\"DataRange1d\"},\"y_scale\":{\"id\":\"2200\",\"type\":\"LinearScale\"}},\"id\":\"2193\",\"subtype\":\"Figure\",\"type\":\"Plot\"},{\"attributes\":{\"active_drag\":\"auto\",\"active_inspect\":\"auto\",\"active_multi\":null,\"active_scroll\":\"auto\",\"active_tap\":\"auto\",\"tools\":[{\"id\":\"2212\",\"type\":\"PanTool\"},{\"id\":\"2213\",\"type\":\"WheelZoomTool\"},{\"id\":\"2214\",\"type\":\"BoxZoomTool\"},{\"id\":\"2215\",\"type\":\"SaveTool\"},{\"id\":\"2216\",\"type\":\"ResetTool\"},{\"id\":\"2217\",\"type\":\"HelpTool\"}]},\"id\":\"2218\",\"type\":\"Toolbar\"},{\"attributes\":{\"source\":{\"id\":\"2227\",\"type\":\"ColumnDataSource\"}},\"id\":\"2231\",\"type\":\"CDSView\"},{\"attributes\":{\"source\":{\"id\":\"2237\",\"type\":\"ColumnDataSource\"}},\"id\":\"2241\",\"type\":\"CDSView\"},{\"attributes\":{},\"id\":\"2337\",\"type\":\"Selection\"},{\"attributes\":{},\"id\":\"2203\",\"type\":\"BasicTicker\"},{\"attributes\":{\"overlay\":{\"id\":\"2220\",\"type\":\"BoxAnnotation\"}},\"id\":\"2214\",\"type\":\"BoxZoomTool\"},{\"attributes\":{},\"id\":\"2334\",\"type\":\"UnionRenderers\"},{\"attributes\":{},\"id\":\"2200\",\"type\":\"LinearScale\"},{\"attributes\":{},\"id\":\"2335\",\"type\":\"Selection\"},{\"attributes\":{\"callback\":null,\"data\":{\"x\":{\"__ndarray__\":\"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\",\"dtype\":\"float64\",\"shape\":[204]},\"y\":{\"__ndarray__\":\"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\",\"dtype\":\"float64\",\"shape\":[204]}},\"selected\":{\"id\":\"2333\",\"type\":\"Selection\"},\"selection_policy\":{\"id\":\"2332\",\"type\":\"UnionRenderers\"}},\"id\":\"2227\",\"type\":\"ColumnDataSource\"},{\"attributes\":{\"axis_label\":\"Length of Delta-Receiving Comments (words)\",\"formatter\":{\"id\":\"2329\",\"type\":\"BasicTickFormatter\"},\"plot\":{\"id\":\"2193\",\"subtype\":\"Figure\",\"type\":\"Plot\"},\"ticker\":{\"id\":\"2203\",\"type\":\"BasicTicker\"}},\"id\":\"2202\",\"type\":\"LinearAxis\"},{\"attributes\":{\"fill_alpha\":0.5,\"fill_color\":\"#1f77b4\",\"line_alpha\":0,\"line_color\":\"#1f77b4\",\"line_width\":0,\"x\":{\"field\":\"x\"},\"y\":{\"field\":\"y\"}},\"id\":\"2228\",\"type\":\"Patch\"},{\"attributes\":{},\"id\":\"2212\",\"type\":\"PanTool\"},{\"attributes\":{},\"id\":\"2198\",\"type\":\"LinearScale\"},{\"attributes\":{\"data_source\":{\"id\":\"2227\",\"type\":\"ColumnDataSource\"},\"glyph\":{\"id\":\"2228\",\"type\":\"Patch\"},\"hover_glyph\":null,\"muted_glyph\":null,\"nonselection_glyph\":{\"id\":\"2229\",\"type\":\"Patch\"},\"selection_glyph\":null,\"view\":{\"id\":\"2231\",\"type\":\"CDSView\"}},\"id\":\"2230\",\"type\":\"GlyphRenderer\"},{\"attributes\":{},\"id\":\"2327\",\"type\":\"BasicTickFormatter\"},{\"attributes\":{\"bottom_units\":\"screen\",\"fill_alpha\":{\"value\":0.5},\"fill_color\":{\"value\":\"lightgrey\"},\"left_units\":\"screen\",\"level\":\"overlay\",\"line_alpha\":{\"value\":1.0},\"line_color\":{\"value\":\"black\"},\"line_dash\":[4,4],\"line_width\":{\"value\":2},\"plot\":null,\"render_mode\":\"css\",\"right_units\":\"screen\",\"top_units\":\"screen\"},\"id\":\"2220\",\"type\":\"BoxAnnotation\"},{\"attributes\":{\"axis_label\":\"Frequency\",\"formatter\":{\"id\":\"2327\",\"type\":\"BasicTickFormatter\"},\"plot\":{\"id\":\"2193\",\"subtype\":\"Figure\",\"type\":\"Plot\"},\"ticker\":{\"id\":\"2208\",\"type\":\"BasicTicker\"}},\"id\":\"2207\",\"type\":\"LinearAxis\"},{\"attributes\":{\"line_color\":\"#1f77b4\",\"x\":{\"field\":\"x\"},\"y\":{\"field\":\"y\"}},\"id\":\"2233\",\"type\":\"Line\"},{\"attributes\":{\"callback\":null,\"start\":0},\"id\":\"2192\",\"type\":\"DataRange1d\"},{\"attributes\":{},\"id\":\"2215\",\"type\":\"SaveTool\"},{\"attributes\":{\"plot\":{\"id\":\"2193\",\"subtype\":\"Figure\",\"type\":\"Plot\"},\"ticker\":{\"id\":\"2203\",\"type\":\"BasicTicker\"}},\"id\":\"2206\",\"type\":\"Grid\"},{\"attributes\":{},\"id\":\"2213\",\"type\":\"WheelZoomTool\"},{\"attributes\":{\"line_alpha\":0.1,\"line_color\":\"#1f77b4\",\"x\":{\"field\":\"x\"},\"y\":{\"field\":\"y\"}},\"id\":\"2234\",\"type\":\"Line\"},{\"attributes\":{\"data_source\":{\"id\":\"2232\",\"type\":\"ColumnDataSource\"},\"glyph\":{\"id\":\"2233\",\"type\":\"Line\"},\"hover_glyph\":null,\"muted_glyph\":null,\"nonselection_glyph\":{\"id\":\"2234\",\"type\":\"Line\"},\"selection_glyph\":null,\"view\":{\"id\":\"2236\",\"type\":\"CDSView\"}},\"id\":\"2235\",\"type\":\"GlyphRenderer\"},{\"attributes\":{\"line_alpha\":0.1,\"line_color\":\"#1f77b4\",\"x\":{\"field\":\"x\"},\"y\":{\"field\":\"y\"}},\"id\":\"2239\",\"type\":\"Line\"},{\"attributes\":{},\"id\":\"2329\",\"type\":\"BasicTickFormatter\"},{\"attributes\":{\"data_source\":{\"id\":\"2237\",\"type\":\"ColumnDataSource\"},\"glyph\":{\"id\":\"2238\",\"type\":\"Line\"},\"hover_glyph\":null,\"muted_glyph\":null,\"nonselection_glyph\":{\"id\":\"2239\",\"type\":\"Line\"},\"selection_glyph\":null,\"view\":{\"id\":\"2241\",\"type\":\"CDSView\"}},\"id\":\"2240\",\"type\":\"GlyphRenderer\"},{\"attributes\":{\"line_color\":\"#1f77b4\",\"x\":{\"field\":\"x\"},\"y\":{\"field\":\"y\"}},\"id\":\"2238\",\"type\":\"Line\"},{\"attributes\":{},\"id\":\"2332\",\"type\":\"UnionRenderers\"},{\"attributes\":{},\"id\":\"2336\",\"type\":\"UnionRenderers\"},{\"attributes\":{},\"id\":\"2217\",\"type\":\"HelpTool\"},{\"attributes\":{\"callback\":null,\"data\":{\"x\":[1.0,1723.0],\"y\":[0,0]},\"selected\":{\"id\":\"2337\",\"type\":\"Selection\"},\"selection_policy\":{\"id\":\"2336\",\"type\":\"UnionRenderers\"}},\"id\":\"2237\",\"type\":\"ColumnDataSource\"},{\"attributes\":{},\"id\":\"2333\",\"type\":\"Selection\"},{\"attributes\":{\"dimension\":1,\"plot\":{\"id\":\"2193\",\"subtype\":\"Figure\",\"type\":\"Plot\"},\"ticker\":{\"id\":\"2208\",\"type\":\"BasicTicker\"}},\"id\":\"2211\",\"type\":\"Grid\"},{\"attributes\":{\"source\":{\"id\":\"2232\",\"type\":\"ColumnDataSource\"}},\"id\":\"2236\",\"type\":\"CDSView\"},{\"attributes\":{\"fill_alpha\":0.1,\"fill_color\":\"#1f77b4\",\"line_alpha\":0.1,\"line_color\":\"#1f77b4\",\"line_width\":0,\"x\":{\"field\":\"x\"},\"y\":{\"field\":\"y\"}},\"id\":\"2229\",\"type\":\"Patch\"},{\"attributes\":{\"callback\":null,\"data\":{\"x\":{\"__ndarray__\":\"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\",\"dtype\":\"float64\",\"shape\":[202]},\"y\":{\"__ndarray__\":\"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\",\"dtype\":\"float64\",\"shape\":[202]}},\"selected\":{\"id\":\"2335\",\"type\":\"Selection\"},\"selection_policy\":{\"id\":\"2334\",\"type\":\"UnionRenderers\"}},\"id\":\"2232\",\"type\":\"ColumnDataSource\"},{\"attributes\":{},\"id\":\"2208\",\"type\":\"BasicTicker\"},{\"attributes\":{},\"id\":\"2216\",\"type\":\"ResetTool\"},{\"attributes\":{\"callback\":null},\"id\":\"2195\",\"type\":\"DataRange1d\"}],\"root_ids\":[\"2193\"]},\"title\":\"Bokeh Application\",\"version\":\"1.0.4\"}};\n",
       "  var render_items = [{\"docid\":\"980101b7-bcca-4bcb-aa56-33ab6931c6c0\",\"roots\":{\"2193\":\"d2453628-c846-4f8d-9387-62cbed0fd2f2\"}}];\n",
       "  root.Bokeh.embed.embed_items_notebook(docs_json, render_items);\n",
       "\n",
       "  }\n",
       "  if (root.Bokeh !== undefined) {\n",
       "    embed_document(root);\n",
       "  } else {\n",
       "    var attempts = 0;\n",
       "    var timer = setInterval(function(root) {\n",
       "      if (root.Bokeh !== undefined) {\n",
       "        embed_document(root);\n",
       "        clearInterval(timer);\n",
       "      }\n",
       "      attempts++;\n",
       "      if (attempts > 100) {\n",
       "        console.log(\"Bokeh: ERROR: Unable to run BokehJS code because BokehJS library is missing\");\n",
       "        clearInterval(timer);\n",
       "      }\n",
       "    }, 10, root)\n",
       "  }\n",
       "})(window);"
      ],
      "application/vnd.bokehjs_exec.v0+json": ""
     },
     "metadata": {
      "application/vnd.bokehjs_exec.v0+json": {
       "id": "2193"
      }
     },
     "output_type": "display_data"
    },
    {
     "name": "stdout",
     "output_type": "stream",
     "text": [
      "158.2164674634794\n",
      "204.05878809404646\n"
     ]
    }
   ],
   "source": [
    "lengthDeltaPosts = np.array(lengthDeltaPosts)\n",
    "p = bebi103.viz.histogram(data=lengthDeltaPosts[:,1], \n",
    "                          kind='step_filled', \n",
    "                          fill_alpha=0.5, bins=100, density=False,\n",
    "                         x_axis_label=\"Length of Delta-Receiving Comments (words)\",\n",
    "                         y_axis_label='Frequency',\n",
    "                          )\n",
    "bokeh.io.show(p)\n",
    "print(np.mean(lengthDeltaPosts[:,1]))\n",
    "print(np.std(lengthDeltaPosts[:,1]))"
   ]
  },
  {
   "cell_type": "code",
   "execution_count": 70,
   "metadata": {},
   "outputs": [
    {
     "data": {
      "text/html": [
       "\n",
       "\n",
       "\n",
       "\n",
       "\n",
       "\n",
       "  <div class=\"bk-root\" id=\"e581aaf0-403a-4244-a090-bc784f225474\" data-root-id=\"2411\"></div>\n"
      ]
     },
     "metadata": {},
     "output_type": "display_data"
    },
    {
     "data": {
      "application/javascript": [
       "(function(root) {\n",
       "  function embed_document(root) {\n",
       "    \n",
       "  var docs_json = {\"277f718b-432c-42e9-b895-e60214c96288\":{\"roots\":{\"references\":[{\"attributes\":{\"below\":[{\"id\":\"2420\",\"type\":\"LinearAxis\"}],\"left\":[{\"id\":\"2425\",\"type\":\"LinearAxis\"}],\"plot_height\":300,\"plot_width\":450,\"renderers\":[{\"id\":\"2420\",\"type\":\"LinearAxis\"},{\"id\":\"2424\",\"type\":\"Grid\"},{\"id\":\"2425\",\"type\":\"LinearAxis\"},{\"id\":\"2429\",\"type\":\"Grid\"},{\"id\":\"2438\",\"type\":\"BoxAnnotation\"},{\"id\":\"2448\",\"type\":\"GlyphRenderer\"},{\"id\":\"2453\",\"type\":\"GlyphRenderer\"},{\"id\":\"2458\",\"type\":\"GlyphRenderer\"}],\"title\":null,\"toolbar\":{\"id\":\"2436\",\"type\":\"Toolbar\"},\"x_range\":{\"id\":\"2413\",\"type\":\"DataRange1d\"},\"x_scale\":{\"id\":\"2416\",\"type\":\"LinearScale\"},\"y_range\":{\"id\":\"2410\",\"type\":\"DataRange1d\"},\"y_scale\":{\"id\":\"2418\",\"type\":\"LinearScale\"}},\"id\":\"2411\",\"subtype\":\"Figure\",\"type\":\"Plot\"},{\"attributes\":{\"callback\":null},\"id\":\"2413\",\"type\":\"DataRange1d\"},{\"attributes\":{\"data_source\":{\"id\":\"2455\",\"type\":\"ColumnDataSource\"},\"glyph\":{\"id\":\"2456\",\"type\":\"Line\"},\"hover_glyph\":null,\"muted_glyph\":null,\"nonselection_glyph\":{\"id\":\"2457\",\"type\":\"Line\"},\"selection_glyph\":null,\"view\":{\"id\":\"2459\",\"type\":\"CDSView\"}},\"id\":\"2458\",\"type\":\"GlyphRenderer\"},{\"attributes\":{},\"id\":\"2564\",\"type\":\"UnionRenderers\"},{\"attributes\":{\"line_alpha\":0.1,\"line_color\":\"#1f77b4\",\"x\":{\"field\":\"x\"},\"y\":{\"field\":\"y\"}},\"id\":\"2457\",\"type\":\"Line\"},{\"attributes\":{\"fill_alpha\":0.5,\"fill_color\":\"#1f77b4\",\"line_alpha\":0,\"line_color\":\"#1f77b4\",\"line_width\":0,\"x\":{\"field\":\"x\"},\"y\":{\"field\":\"y\"}},\"id\":\"2446\",\"type\":\"Patch\"},{\"attributes\":{},\"id\":\"2562\",\"type\":\"UnionRenderers\"},{\"attributes\":{\"line_alpha\":0.1,\"line_color\":\"#1f77b4\",\"x\":{\"field\":\"x\"},\"y\":{\"field\":\"y\"}},\"id\":\"2452\",\"type\":\"Line\"},{\"attributes\":{},\"id\":\"2566\",\"type\":\"UnionRenderers\"},{\"attributes\":{\"source\":{\"id\":\"2445\",\"type\":\"ColumnDataSource\"}},\"id\":\"2449\",\"type\":\"CDSView\"},{\"attributes\":{\"callback\":null,\"data\":{\"x\":[1.0,1723.0],\"y\":[0,0]},\"selected\":{\"id\":\"2567\",\"type\":\"Selection\"},\"selection_policy\":{\"id\":\"2566\",\"type\":\"UnionRenderers\"}},\"id\":\"2455\",\"type\":\"ColumnDataSource\"},{\"attributes\":{},\"id\":\"2416\",\"type\":\"LinearScale\"},{\"attributes\":{\"data_source\":{\"id\":\"2445\",\"type\":\"ColumnDataSource\"},\"glyph\":{\"id\":\"2446\",\"type\":\"Patch\"},\"hover_glyph\":null,\"muted_glyph\":null,\"nonselection_glyph\":{\"id\":\"2447\",\"type\":\"Patch\"},\"selection_glyph\":null,\"view\":{\"id\":\"2449\",\"type\":\"CDSView\"}},\"id\":\"2448\",\"type\":\"GlyphRenderer\"},{\"attributes\":{\"source\":{\"id\":\"2450\",\"type\":\"ColumnDataSource\"}},\"id\":\"2454\",\"type\":\"CDSView\"},{\"attributes\":{\"fill_alpha\":0.1,\"fill_color\":\"#1f77b4\",\"line_alpha\":0.1,\"line_color\":\"#1f77b4\",\"line_width\":0,\"x\":{\"field\":\"x\"},\"y\":{\"field\":\"y\"}},\"id\":\"2447\",\"type\":\"Patch\"},{\"attributes\":{\"plot\":{\"id\":\"2411\",\"subtype\":\"Figure\",\"type\":\"Plot\"},\"ticker\":{\"id\":\"2421\",\"type\":\"BasicTicker\"}},\"id\":\"2424\",\"type\":\"Grid\"},{\"attributes\":{},\"id\":\"2435\",\"type\":\"HelpTool\"},{\"attributes\":{},\"id\":\"2565\",\"type\":\"Selection\"},{\"attributes\":{},\"id\":\"2421\",\"type\":\"BasicTicker\"},{\"attributes\":{\"callback\":null,\"data\":{\"x\":{\"__ndarray__\":\"AAAAAAAA8D8AAAAAAADwP7gehetRODJAuB6F61E4MkC4HoXrUbhBQLgehetRuEFAFK5H4XpUSkAUrkfhelRKQLgehetReFFAuB6F61F4UUBmZmZmZsZVQGZmZmZmxlVAFK5H4XoUWkAUrkfhehRaQML1KFyPYl5AwvUoXI9iXkC4HoXrUVhhQLgehetRWGFAj8L1KFx/Y0CPwvUoXH9jQGZmZmZmpmVAZmZmZmamZUA9CtejcM1nQD0K16NwzWdAFK5H4Xr0aUAUrkfhevRpQOtRuB6FG2xA61G4HoUbbEDC9Shcj0JuQML1KFyPQm5AzMzMzMw0cEDMzMzMzDRwQLgehetRSHFAuB6F61FIcUCkcD0K11tyQKRwPQrXW3JAj8L1KFxvc0CPwvUoXG9zQHoUrkfhgnRAehSuR+GCdEBmZmZmZpZ1QGZmZmZmlnVAUrgeheupdkBSuB6F66l2QD0K16NwvXdAPQrXo3C9d0AoXI/C9dB4QChcj8L10HhAFK5H4XrkeUAUrkfheuR5QAAAAAAA+HpAAAAAAAD4ekDrUbgehQt8QOtRuB6FC3xA1qNwPQoffUDWo3A9Ch99QML1KFyPMn5AwvUoXI8yfkCuR+F6FEZ/QK5H4XoURn9AzMzMzMwsgEDMzMzMzCyAQML1KFyPtoBAwvUoXI+2gEC4HoXrUUCBQLgehetRQIFArkfhehTKgUCuR+F6FMqBQKRwPQrXU4JApHA9CtdTgkCZmZmZmd2CQJmZmZmZ3YJAj8L1KFxng0CPwvUoXGeDQIXrUbge8YNAhetRuB7xg0B6FK5H4XqEQHoUrkfheoRAcD0K16MEhUBwPQrXowSFQGZmZmZmjoVAZmZmZmaOhUBcj8L1KBiGQFyPwvUoGIZAUrgeheuhhkBSuB6F66GGQEfhehSuK4dAR+F6FK4rh0A9CtejcLWHQD0K16NwtYdAMzMzMzM/iEAzMzMzMz+IQChcj8L1yIhAKFyPwvXIiEAehetRuFKJQB6F61G4UolAFK5H4XrciUAUrkfhetyJQArXo3A9ZopACtejcD1mikAAAAAAAPCKQAAAAAAA8IpA9Shcj8J5i0D1KFyPwnmLQOtRuB6FA4xA61G4HoUDjEDhehSuR42MQOF6FK5HjYxA1qNwPQoXjUDWo3A9CheNQMzMzMzMoI1AzMzMzMygjUDC9ShcjyqOQML1KFyPKo5AuB6F61G0jkC4HoXrUbSOQK5H4XoUPo9ArkfhehQ+j0CjcD0K18ePQKNwPQrXx49AzMzMzMwokEDMzMzMzCiQQEfhehSubZBAR+F6FK5tkEDC9Shcj7KQQML1KFyPspBAPQrXo3D3kEA9CtejcPeQQLgehetRPJFAuB6F61E8kUAzMzMzM4GRQDMzMzMzgZFArkfhehTGkUCuR+F6FMaRQClcj8L1CpJAKVyPwvUKkkCkcD0K10+SQKRwPQrXT5JAHoXrUbiUkkAehetRuJSSQJmZmZmZ2ZJAmZmZmZnZkkAUrkfheh6TQBSuR+F6HpNAj8L1KFxjk0CPwvUoXGOTQArXo3A9qJNACtejcD2ok0CF61G4Hu2TQIXrUbge7ZNAAAAAAAAylEAAAAAAADKUQHoUrkfhdpRAehSuR+F2lED1KFyPwruUQPUoXI/Cu5RAcD0K16MAlUBwPQrXowCVQOtRuB6FRZVA61G4HoVFlUBmZmZmZoqVQGZmZmZmipVA4XoUrkfPlUDhehSuR8+VQFyPwvUoFJZAXI/C9SgUlkDXo3A9ClmWQNejcD0KWZZAUrgeheudlkBSuB6F652WQMzMzMzM4pZAzMzMzMzilkBH4XoUrieXQEfhehSuJ5dAwvUoXI9sl0DC9Shcj2yXQD0K16NwsZdAPQrXo3Cxl0C4HoXrUfaXQLgehetR9pdAMzMzMzM7mEAzMzMzMzuYQK5H4XoUgJhArkfhehSAmEAoXI/C9cSYQChcj8L1xJhAo3A9CtcJmUCjcD0K1wmZQB6F61G4TplAHoXrUbhOmUCZmZmZmZOZQJmZmZmZk5lAFK5H4XrYmUAUrkfhetiZQI/C9ShcHZpAj8L1KFwdmkAK16NwPWKaQArXo3A9YppAhetRuB6nmkCF61G4HqeaQAAAAAAA7JpAAAAAAADsmkA=\",\"dtype\":\"float64\",\"shape\":[202]},\"y\":{\"__ndarray__\":\"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\",\"dtype\":\"float64\",\"shape\":[202]}},\"selected\":{\"id\":\"2565\",\"type\":\"Selection\"},\"selection_policy\":{\"id\":\"2564\",\"type\":\"UnionRenderers\"}},\"id\":\"2450\",\"type\":\"ColumnDataSource\"},{\"attributes\":{\"data_source\":{\"id\":\"2450\",\"type\":\"ColumnDataSource\"},\"glyph\":{\"id\":\"2451\",\"type\":\"Line\"},\"hover_glyph\":null,\"muted_glyph\":null,\"nonselection_glyph\":{\"id\":\"2452\",\"type\":\"Line\"},\"selection_glyph\":null,\"view\":{\"id\":\"2454\",\"type\":\"CDSView\"}},\"id\":\"2453\",\"type\":\"GlyphRenderer\"},{\"attributes\":{\"active_drag\":\"auto\",\"active_inspect\":\"auto\",\"active_multi\":null,\"active_scroll\":\"auto\",\"active_tap\":\"auto\",\"tools\":[{\"id\":\"2430\",\"type\":\"PanTool\"},{\"id\":\"2431\",\"type\":\"WheelZoomTool\"},{\"id\":\"2432\",\"type\":\"BoxZoomTool\"},{\"id\":\"2433\",\"type\":\"SaveTool\"},{\"id\":\"2434\",\"type\":\"ResetTool\"},{\"id\":\"2435\",\"type\":\"HelpTool\"}]},\"id\":\"2436\",\"type\":\"Toolbar\"},{\"attributes\":{\"line_color\":\"#1f77b4\",\"x\":{\"field\":\"x\"},\"y\":{\"field\":\"y\"}},\"id\":\"2456\",\"type\":\"Line\"},{\"attributes\":{},\"id\":\"2557\",\"type\":\"BasicTickFormatter\"},{\"attributes\":{\"line_color\":\"#1f77b4\",\"x\":{\"field\":\"x\"},\"y\":{\"field\":\"y\"}},\"id\":\"2451\",\"type\":\"Line\"},{\"attributes\":{\"axis_label\":\"Comment Length of non-Delta-Receiving Comments (words)\",\"formatter\":{\"id\":\"2559\",\"type\":\"BasicTickFormatter\"},\"plot\":{\"id\":\"2411\",\"subtype\":\"Figure\",\"type\":\"Plot\"},\"ticker\":{\"id\":\"2421\",\"type\":\"BasicTicker\"}},\"id\":\"2420\",\"type\":\"LinearAxis\"},{\"attributes\":{},\"id\":\"2567\",\"type\":\"Selection\"},{\"attributes\":{\"dimension\":1,\"plot\":{\"id\":\"2411\",\"subtype\":\"Figure\",\"type\":\"Plot\"},\"ticker\":{\"id\":\"2426\",\"type\":\"BasicTicker\"}},\"id\":\"2429\",\"type\":\"Grid\"},{\"attributes\":{},\"id\":\"2433\",\"type\":\"SaveTool\"},{\"attributes\":{\"overlay\":{\"id\":\"2438\",\"type\":\"BoxAnnotation\"}},\"id\":\"2432\",\"type\":\"BoxZoomTool\"},{\"attributes\":{\"callback\":null,\"start\":0},\"id\":\"2410\",\"type\":\"DataRange1d\"},{\"attributes\":{},\"id\":\"2426\",\"type\":\"BasicTicker\"},{\"attributes\":{},\"id\":\"2559\",\"type\":\"BasicTickFormatter\"},{\"attributes\":{},\"id\":\"2563\",\"type\":\"Selection\"},{\"attributes\":{\"callback\":null,\"data\":{\"x\":{\"__ndarray__\":\"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\",\"dtype\":\"float64\",\"shape\":[204]},\"y\":{\"__ndarray__\":\"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\",\"dtype\":\"float64\",\"shape\":[204]}},\"selected\":{\"id\":\"2563\",\"type\":\"Selection\"},\"selection_policy\":{\"id\":\"2562\",\"type\":\"UnionRenderers\"}},\"id\":\"2445\",\"type\":\"ColumnDataSource\"},{\"attributes\":{},\"id\":\"2430\",\"type\":\"PanTool\"},{\"attributes\":{},\"id\":\"2418\",\"type\":\"LinearScale\"},{\"attributes\":{\"source\":{\"id\":\"2455\",\"type\":\"ColumnDataSource\"}},\"id\":\"2459\",\"type\":\"CDSView\"},{\"attributes\":{\"bottom_units\":\"screen\",\"fill_alpha\":{\"value\":0.5},\"fill_color\":{\"value\":\"lightgrey\"},\"left_units\":\"screen\",\"level\":\"overlay\",\"line_alpha\":{\"value\":1.0},\"line_color\":{\"value\":\"black\"},\"line_dash\":[4,4],\"line_width\":{\"value\":2},\"plot\":null,\"render_mode\":\"css\",\"right_units\":\"screen\",\"top_units\":\"screen\"},\"id\":\"2438\",\"type\":\"BoxAnnotation\"},{\"attributes\":{},\"id\":\"2434\",\"type\":\"ResetTool\"},{\"attributes\":{\"axis_label\":\"Frequency\",\"formatter\":{\"id\":\"2557\",\"type\":\"BasicTickFormatter\"},\"plot\":{\"id\":\"2411\",\"subtype\":\"Figure\",\"type\":\"Plot\"},\"ticker\":{\"id\":\"2426\",\"type\":\"BasicTicker\"}},\"id\":\"2425\",\"type\":\"LinearAxis\"},{\"attributes\":{},\"id\":\"2431\",\"type\":\"WheelZoomTool\"}],\"root_ids\":[\"2411\"]},\"title\":\"Bokeh Application\",\"version\":\"1.0.4\"}};\n",
       "  var render_items = [{\"docid\":\"277f718b-432c-42e9-b895-e60214c96288\",\"roots\":{\"2411\":\"e581aaf0-403a-4244-a090-bc784f225474\"}}];\n",
       "  root.Bokeh.embed.embed_items_notebook(docs_json, render_items);\n",
       "\n",
       "  }\n",
       "  if (root.Bokeh !== undefined) {\n",
       "    embed_document(root);\n",
       "  } else {\n",
       "    var attempts = 0;\n",
       "    var timer = setInterval(function(root) {\n",
       "      if (root.Bokeh !== undefined) {\n",
       "        embed_document(root);\n",
       "        clearInterval(timer);\n",
       "      }\n",
       "      attempts++;\n",
       "      if (attempts > 100) {\n",
       "        console.log(\"Bokeh: ERROR: Unable to run BokehJS code because BokehJS library is missing\");\n",
       "        clearInterval(timer);\n",
       "      }\n",
       "    }, 10, root)\n",
       "  }\n",
       "})(window);"
      ],
      "application/vnd.bokehjs_exec.v0+json": ""
     },
     "metadata": {
      "application/vnd.bokehjs_exec.v0+json": {
       "id": "2411"
      }
     },
     "output_type": "display_data"
    },
    {
     "name": "stdout",
     "output_type": "stream",
     "text": [
      "85.66098250136321\n",
      "118.37773766659868\n"
     ]
    }
   ],
   "source": [
    "lengthOtherPosts = np.array(lengthOtherPosts)\n",
    "p = bebi103.viz.histogram(data=length[:,1], \n",
    "                          kind='step_filled', \n",
    "                          fill_alpha=0.5, bins=100, density=False,\n",
    "                         x_axis_label=\"Comment Length of non-Delta-Receiving Comments (words)\",\n",
    "                         y_axis_label='Frequency',\n",
    "                          )\n",
    "bokeh.io.show(p)\n",
    "print(np.mean(lengthOtherPosts[:,1]))\n",
    "print(np.std(lengthOtherPosts[:,1]))"
   ]
  },
  {
   "cell_type": "markdown",
   "metadata": {},
   "source": [
    "# General overview histograms for all the data"
   ]
  },
  {
   "cell_type": "code",
   "execution_count": 18,
   "metadata": {},
   "outputs": [
    {
     "name": "stdout",
     "output_type": "stream",
     "text": [
      "0\n",
      "10\n",
      "20\n",
      "30\n",
      "40\n",
      "50\n",
      "60\n",
      "70\n",
      "80\n",
      "90\n",
      "100\n",
      "110\n",
      "120\n",
      "130\n",
      "140\n",
      "150\n",
      "160\n",
      "170\n",
      "180\n",
      "190\n",
      "200\n",
      "210\n",
      "220\n",
      "230\n",
      "240\n"
     ]
    }
   ],
   "source": [
    "deltaCommentCounts = [0] * len(commentDict.items())\n",
    "otherCommentCounts = [0] * len(commentDict.items())\n",
    "\n",
    "i = 0\n",
    "for key, jsonData in commentDict.items():\n",
    "    # Print out iterations \n",
    "    if i % 10 == 0:\n",
    "        print(i)\n",
    "    for x in range(len(jsonData)):\n",
    "        # Mine the deltabot comment to find the users who write the good comments\n",
    "        if (jsonData[x][\"author\"] == \"DeltaBot\" and \n",
    "                        \"awarded\" in jsonData[x][\"body\"]):\n",
    "            deltaCommentCounts[i] += 1\n",
    "        else:\n",
    "            otherCommentCounts[i] += 1\n",
    "    i += 1"
   ]
  },
  {
   "cell_type": "code",
   "execution_count": 19,
   "metadata": {},
   "outputs": [
    {
     "name": "stdout",
     "output_type": "stream",
     "text": [
      "1.7620967741935485\n",
      "1.2361551174936436\n"
     ]
    },
    {
     "data": {
      "image/png": "[encoded data removed]",
      "text/plain": [
       "<Figure size 432x288 with 1 Axes>"
      ]
     },
     "metadata": {
      "needs_background": "light"
     },
     "output_type": "display_data"
    }
   ],
   "source": [
    "fig, ax = plt.subplots()\n",
    "plt.hist(deltaCommentCounts, bins=20)\n",
    "ax.set_xlabel(\"Delta Receiving Comments per Submission\")\n",
    "ax.set_ylabel(\"Frequency\")\n",
    "# plt.axvline(np.mean(deltaCommentCounts), color='k', linestyle='dashed', linewidth=1)\n",
    "print(np.mean(deltaCommentCounts))\n",
    "print(np.std(deltaCommentCounts))"
   ]
  },
  {
   "cell_type": "markdown",
   "metadata": {},
   "source": [
    "Below, we're just calculating the total number of delta and other comments in our dataset."
   ]
  },
  {
   "cell_type": "code",
   "execution_count": 22,
   "metadata": {},
   "outputs": [
    {
     "data": {
      "text/plain": [
       "437"
      ]
     },
     "execution_count": 22,
     "metadata": {},
     "output_type": "execute_result"
    }
   ],
   "source": [
    "sum(deltaCommentCounts)"
   ]
  },
  {
   "cell_type": "code",
   "execution_count": 23,
   "metadata": {},
   "outputs": [
    {
     "data": {
      "text/plain": [
       "21242"
      ]
     },
     "execution_count": 23,
     "metadata": {},
     "output_type": "execute_result"
    }
   ],
   "source": [
    "sum(otherCommentCounts)"
   ]
  },
  {
   "cell_type": "markdown",
   "metadata": {},
   "source": [
    "Let's plot out the non-delta receiving comments in our data."
   ]
  },
  {
   "cell_type": "code",
   "execution_count": 21,
   "metadata": {},
   "outputs": [
    {
     "name": "stdout",
     "output_type": "stream",
     "text": [
      "85.65322580645162\n",
      "118.12343491742419\n"
     ]
    },
    {
     "data": {
      "image/png": "[encoded data removed]",
      "text/plain": [
       "<Figure size 432x288 with 1 Axes>"
      ]
     },
     "metadata": {
      "needs_background": "light"
     },
     "output_type": "display_data"
    }
   ],
   "source": [
    "fig, ax = plt.subplots()\n",
    "plt.hist(otherCommentCounts, bins=50)\n",
    "ax.set_xlabel(\"Non-Delta Receiving Comments per Submission\")\n",
    "ax.set_ylabel(\"Frequency\")\n",
    "# plt.axvline(np.mean(otherCommentCounts), color='k', linestyle='dashed', linewidth=1)\n",
    "print(np.mean(otherCommentCounts))\n",
    "print(np.std(otherCommentCounts))"
   ]
  },
  {
   "cell_type": "markdown",
   "metadata": {},
   "source": [
    "# Hypothesis Testing "
   ]
  },
  {
   "cell_type": "code",
   "execution_count": 28,
   "metadata": {},
   "outputs": [],
   "source": [
    "# bootstrapping functions\n",
    "\n",
    "def draw_bs_sample(data):\n",
    "    \"\"\"\n",
    "    Draw a bootstrap sample from a 1D data set.\n",
    "    \"\"\"\n",
    "    return np.random.choice(data, size=len(data))\n",
    "\n",
    "\n",
    "\n",
    "def draw_bs_reps_mean(data, size=10000):\n",
    "    \"\"\"\n",
    "    Draw boostrap replicates of the mean from 1D data set.\n",
    "    \"\"\"\n",
    "    out = np.empty(size)\n",
    "    for i in range(size):\n",
    "        out[i] = np.mean(draw_bs_sample(data))\n",
    "    return out\n",
    "\n",
    "\n",
    "def draw_bs_reps_diff_mean(x, y, size=10000):\n",
    "    \"\"\"\n",
    "    Generate bootstrap replicates with difference of means\n",
    "    as the test statistic.\n",
    "    \"\"\"\n",
    "    out = np.empty(size)\n",
    "    for i in range(size):\n",
    "        out[i] = np.mean(draw_bs_sample(x)) - np.mean(draw_bs_sample(y))\n",
    "    return out\n"
   ]
  },
  {
   "cell_type": "code",
   "execution_count": 76,
   "metadata": {},
   "outputs": [],
   "source": [
    "# Testing whether mean(x) > mean(y)\n",
    "def getPVal(x, y, size=100000):\n",
    "    bs_reps = draw_bs_reps_diff_mean(x, y, size=100000)\n",
    "\n",
    "    diff_mean =  np.mean(x) - np.mean(y)\n",
    "\n",
    "    p_val = np.sum(bs_reps < 0) / len(bs_reps)\n",
    "\n",
    "    print('p-value =', p_val)\n",
    "    return p_val"
   ]
  },
  {
   "cell_type": "markdown",
   "metadata": {},
   "source": [
    "Note: Because we drew 100000 samples per hypothesis test, a p-value of 0 from our tests means that our p-value is under 1e-5."
   ]
  },
  {
   "cell_type": "markdown",
   "metadata": {},
   "source": [
    "## Bootstrap: delta comment score > other comment\n",
    "\n"
   ]
  },
  {
   "cell_type": "code",
   "execution_count": 77,
   "metadata": {},
   "outputs": [
    {
     "name": "stdout",
     "output_type": "stream",
     "text": [
      "p-value = 0.0\n"
     ]
    },
    {
     "data": {
      "text/plain": [
       "0.0"
      ]
     },
     "execution_count": 77,
     "metadata": {},
     "output_type": "execute_result"
    }
   ],
   "source": [
    "getPVal(np.array(scoreDeltaPosts)[:,0], np.array(scoreOtherPosts)[:,0])"
   ]
  },
  {
   "cell_type": "markdown",
   "metadata": {},
   "source": [
    "## Bootstrap: Sentiment"
   ]
  },
  {
   "cell_type": "code",
   "execution_count": 72,
   "metadata": {},
   "outputs": [
    {
     "name": "stdout",
     "output_type": "stream",
     "text": [
      "p-value = 0.03819\n"
     ]
    },
    {
     "data": {
      "text/plain": [
       "0.03819"
      ]
     },
     "execution_count": 72,
     "metadata": {},
     "output_type": "execute_result"
    }
   ],
   "source": [
    "getPVal(np.array(avgSentimentDeltaPosts)[:,0], np.array(avgSentimentOtherPosts)[:,0])"
   ]
  },
  {
   "cell_type": "markdown",
   "metadata": {},
   "source": [
    "# Boostrap: Flesch"
   ]
  },
  {
   "cell_type": "code",
   "execution_count": 73,
   "metadata": {},
   "outputs": [
    {
     "name": "stdout",
     "output_type": "stream",
     "text": [
      "p-value = 0.0\n"
     ]
    },
    {
     "data": {
      "text/plain": [
       "0.0"
      ]
     },
     "execution_count": 73,
     "metadata": {},
     "output_type": "execute_result"
    }
   ],
   "source": [
    "getPVal(complexityDeltaPosts, complexityOtherPosts)"
   ]
  },
  {
   "cell_type": "markdown",
   "metadata": {},
   "source": [
    "# Bootstrap: Sentence Length"
   ]
  },
  {
   "cell_type": "code",
   "execution_count": 74,
   "metadata": {},
   "outputs": [
    {
     "name": "stdout",
     "output_type": "stream",
     "text": [
      "p-value = 0.0\n"
     ]
    },
    {
     "data": {
      "text/plain": [
       "0.0"
      ]
     },
     "execution_count": 74,
     "metadata": {},
     "output_type": "execute_result"
    }
   ],
   "source": [
    "getPVal(lengthDeltaPosts[:,0], lengthOtherPosts[:,0])"
   ]
  },
  {
   "cell_type": "markdown",
   "metadata": {},
   "source": [
    "# Boostrap: comment Length"
   ]
  },
  {
   "cell_type": "code",
   "execution_count": 75,
   "metadata": {},
   "outputs": [
    {
     "name": "stdout",
     "output_type": "stream",
     "text": [
      "p-value = 0.0\n"
     ]
    },
    {
     "data": {
      "text/plain": [
       "0.0"
      ]
     },
     "execution_count": 75,
     "metadata": {},
     "output_type": "execute_result"
    }
   ],
   "source": [
    "getPVal(lengthDeltaPosts[:,1], lengthOtherPosts[:,1])"
   ]
  },
  {
   "cell_type": "code",
   "execution_count": null,
   "metadata": {},
   "outputs": [],
   "source": []
  }
 ],
 "metadata": {
  "kernelspec": {
   "display_name": "Python 3",
   "language": "python",
   "name": "python3"
  },
  "language_info": {
   "codemirror_mode": {
    "name": "ipython",
    "version": 3
   },
   "file_extension": ".py",
   "mimetype": "text/x-python",
   "name": "python",
   "nbconvert_exporter": "python",
   "pygments_lexer": "ipython3",
   "version": "3.6.8"
  }
 },
 "nbformat": 4,
 "nbformat_minor": 2
}
